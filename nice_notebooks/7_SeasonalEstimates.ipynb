{
 "cells": [
  {
   "cell_type": "code",
   "execution_count": 6,
   "metadata": {
    "collapsed": true
   },
   "outputs": [],
   "source": [
    "import pandas as pd\n",
    "import matplotlib.pyplot as plt\n",
    "import seaborn\n",
    "seaborn.set()"
   ]
  },
  {
   "cell_type": "code",
   "execution_count": 7,
   "outputs": [],
   "source": [
    "# House 1 data Analysis\n",
    "from os import path\n",
    "from os import getcwd, listdir\n",
    "path_to_data = path.join('..', 'data', 'houses')\n",
    "houses = listdir(path_to_data)\n",
    "house1 = pd.read_csv(path.join(path_to_data, '64613.csv'))\n",
    "# print(house1.columns)\n",
    "house1.drop(columns='Unnamed: 0', inplace=True)\n",
    "house1.drop_duplicates(inplace=True)\n",
    "house1['reading_datetime'] = pd.to_datetime(house1['reading_datetime'])\n",
    "house1.loc[house1['circuit_id'] == 58077,'monitors'] = 'load_air_conditioner1'\n",
    "house1.loc[house1.circuit_id == 70173, 'monitors'] = 'ppt1'\n",
    "house1.loc[house1.circuit_id == 70174, 'monitors'] = 'ppt2'\n",
    "house1.loc[house1.circuit_id == 70175, 'monitors'] = 'ppt3'\n",
    "house1.loc[house1.circuit_id == 58086, 'monitors'] = 'ppt4'\n",
    "house1.set_index(keys=['reading_datetime', 'monitors'], inplace=True, drop=True)\n",
    "house1.sort_index(inplace=True)\n",
    "house1.drop(columns=['site_id', 'circuit_id', 'energy_pos', 'energy_neg'], inplace=True)\n",
    "\n",
    "house1 = house1.stack().unstack(level=1)\n",
    "uncontrollable = ['load_air_conditioner', 'load_air_conditioner1', 'load_lighting', 'load_stove', 'ppt1', 'ppt2', 'ppt3', 'ppt4']\n",
    "controllable = ['load_hot_water']\n",
    "house1['uncontrollable'] = house1[uncontrollable].sum(axis=1)\n",
    "house1['controllable'] = house1[controllable].sum(axis=1)\n",
    "house1['excessPV'] = (house1.pv_site_net - house1.uncontrollable).clip(lower=0)\n",
    "house1 = house1.assign(consumption = house1.ac_load_net + house1.pv_site_net)\n",
    "house1 = house1.droplevel(level=1)"
   ],
   "metadata": {
    "collapsed": false,
    "pycharm": {
     "name": "#%%\n"
    }
   }
  },
  {
   "cell_type": "code",
   "execution_count": 8,
   "outputs": [
    {
     "ename": "AssertionError",
     "evalue": "<class 'numpy.ndarray'>",
     "output_type": "error",
     "traceback": [
      "\u001B[1;31m---------------------------------------------------------------------------\u001B[0m",
      "\u001B[1;31mAssertionError\u001B[0m                            Traceback (most recent call last)",
      "\u001B[1;32m<ipython-input-8-f9cde61506f1>\u001B[0m in \u001B[0;36m<module>\u001B[1;34m\u001B[0m\n\u001B[0;32m      6\u001B[0m \u001B[0mspring\u001B[0m \u001B[1;33m=\u001B[0m \u001B[0mresampled\u001B[0m\u001B[1;33m[\u001B[0m\u001B[1;34m'2019-09'\u001B[0m\u001B[1;33m:\u001B[0m\u001B[1;34m'2019-11'\u001B[0m\u001B[1;33m]\u001B[0m\u001B[1;33m\u001B[0m\u001B[1;33m\u001B[0m\u001B[0m\n\u001B[0;32m      7\u001B[0m \u001B[1;33m\u001B[0m\u001B[0m\n\u001B[1;32m----> 8\u001B[1;33m \u001B[0msummer\u001B[0m\u001B[1;33m[\u001B[0m\u001B[1;34m'2019-12-25'\u001B[0m\u001B[1;33m]\u001B[0m\u001B[1;33m.\u001B[0m\u001B[0mplot\u001B[0m\u001B[1;33m(\u001B[0m\u001B[0my\u001B[0m\u001B[1;33m=\u001B[0m\u001B[1;33m[\u001B[0m\u001B[1;34m'consumption'\u001B[0m\u001B[1;33m,\u001B[0m \u001B[1;34m'uncontrollable'\u001B[0m\u001B[1;33m]\u001B[0m\u001B[1;33m)\u001B[0m\u001B[1;33m\u001B[0m\u001B[1;33m\u001B[0m\u001B[0m\n\u001B[0m\u001B[0;32m      9\u001B[0m \u001B[1;33m\u001B[0m\u001B[0m\n",
      "\u001B[1;32mC:\\ProgramData\\Anaconda3\\envs\\Thesis1\\lib\\site-packages\\pandas\\core\\frame.py\u001B[0m in \u001B[0;36m__getitem__\u001B[1;34m(self, key)\u001B[0m\n\u001B[0;32m   2883\u001B[0m             \u001B[1;31m# either we have a slice or we have a string that can be converted\u001B[0m\u001B[1;33m\u001B[0m\u001B[1;33m\u001B[0m\u001B[1;33m\u001B[0m\u001B[0m\n\u001B[0;32m   2884\u001B[0m             \u001B[1;31m#  to a slice for partial-string date indexing\u001B[0m\u001B[1;33m\u001B[0m\u001B[1;33m\u001B[0m\u001B[1;33m\u001B[0m\u001B[0m\n\u001B[1;32m-> 2885\u001B[1;33m             \u001B[1;32mreturn\u001B[0m \u001B[0mself\u001B[0m\u001B[1;33m.\u001B[0m\u001B[0m_slice\u001B[0m\u001B[1;33m(\u001B[0m\u001B[0mindexer\u001B[0m\u001B[1;33m,\u001B[0m \u001B[0maxis\u001B[0m\u001B[1;33m=\u001B[0m\u001B[1;36m0\u001B[0m\u001B[1;33m)\u001B[0m\u001B[1;33m\u001B[0m\u001B[1;33m\u001B[0m\u001B[0m\n\u001B[0m\u001B[0;32m   2886\u001B[0m \u001B[1;33m\u001B[0m\u001B[0m\n\u001B[0;32m   2887\u001B[0m         \u001B[1;31m# Do we have a (boolean) DataFrame?\u001B[0m\u001B[1;33m\u001B[0m\u001B[1;33m\u001B[0m\u001B[1;33m\u001B[0m\u001B[0m\n",
      "\u001B[1;32mC:\\ProgramData\\Anaconda3\\envs\\Thesis1\\lib\\site-packages\\pandas\\core\\generic.py\u001B[0m in \u001B[0;36m_slice\u001B[1;34m(self, slobj, axis)\u001B[0m\n\u001B[0;32m   3555\u001B[0m         \u001B[0mSlicing\u001B[0m \u001B[1;32mwith\u001B[0m \u001B[0mthis\u001B[0m \u001B[0mmethod\u001B[0m \u001B[1;32mis\u001B[0m \u001B[1;33m*\u001B[0m\u001B[0malways\u001B[0m\u001B[1;33m*\u001B[0m \u001B[0mpositional\u001B[0m\u001B[1;33m.\u001B[0m\u001B[1;33m\u001B[0m\u001B[1;33m\u001B[0m\u001B[0m\n\u001B[0;32m   3556\u001B[0m         \"\"\"\n\u001B[1;32m-> 3557\u001B[1;33m         \u001B[1;32massert\u001B[0m \u001B[0misinstance\u001B[0m\u001B[1;33m(\u001B[0m\u001B[0mslobj\u001B[0m\u001B[1;33m,\u001B[0m \u001B[0mslice\u001B[0m\u001B[1;33m)\u001B[0m\u001B[1;33m,\u001B[0m \u001B[0mtype\u001B[0m\u001B[1;33m(\u001B[0m\u001B[0mslobj\u001B[0m\u001B[1;33m)\u001B[0m\u001B[1;33m\u001B[0m\u001B[1;33m\u001B[0m\u001B[0m\n\u001B[0m\u001B[0;32m   3558\u001B[0m         \u001B[0maxis\u001B[0m \u001B[1;33m=\u001B[0m \u001B[0mself\u001B[0m\u001B[1;33m.\u001B[0m\u001B[0m_get_block_manager_axis\u001B[0m\u001B[1;33m(\u001B[0m\u001B[0maxis\u001B[0m\u001B[1;33m)\u001B[0m\u001B[1;33m\u001B[0m\u001B[1;33m\u001B[0m\u001B[0m\n\u001B[0;32m   3559\u001B[0m         \u001B[0mresult\u001B[0m \u001B[1;33m=\u001B[0m \u001B[0mself\u001B[0m\u001B[1;33m.\u001B[0m\u001B[0m_constructor\u001B[0m\u001B[1;33m(\u001B[0m\u001B[0mself\u001B[0m\u001B[1;33m.\u001B[0m\u001B[0m_mgr\u001B[0m\u001B[1;33m.\u001B[0m\u001B[0mget_slice\u001B[0m\u001B[1;33m(\u001B[0m\u001B[0mslobj\u001B[0m\u001B[1;33m,\u001B[0m \u001B[0maxis\u001B[0m\u001B[1;33m=\u001B[0m\u001B[0maxis\u001B[0m\u001B[1;33m)\u001B[0m\u001B[1;33m)\u001B[0m\u001B[1;33m\u001B[0m\u001B[1;33m\u001B[0m\u001B[0m\n",
      "\u001B[1;31mAssertionError\u001B[0m: <class 'numpy.ndarray'>"
     ]
    }
   ],
   "source": [
    "# house1\n",
    "resampled = house1.resample('5min').sum()\n",
    "summer = resampled['2019-12'].append(resampled['2019-01':'2019-02'])\n",
    "autumn = resampled['2019-03':'2019-05']\n",
    "winter = resampled['2019-06':'2019-08']\n",
    "spring = resampled['2019-09':'2019-11']\n",
    "\n",
    "summer['2019-12-25'].plot(y=['consumption', 'uncontrollable'])"
   ],
   "metadata": {
    "collapsed": false,
    "pycharm": {
     "name": "#%%\n"
    }
   }
  },
  {
   "cell_type": "code",
   "execution_count": null,
   "outputs": [],
   "source": [
    "spring = spring.assign(Dates = spring.index)\n",
    "spring = spring.assign(Time = spring.index.time)\n",
    "spring_pivot = spring.pivot(index='Time', columns='Dates', values='uncontrollable')\n",
    "spring_pivot['median'] = spring_pivot.median(axis=1)\n",
    "spring_pivot['mean'] = spring_pivot.mean(axis=1)\n",
    "ax = spring_pivot.plot(y=['median', 'mean'])\n",
    "ax.set_title('Spring Median Load Profile')\n",
    "ax.set_ylabel('Consumption (Wh)')\n",
    "ax.set_xlabel('Time (24hr)')\n",
    "plt.show()"
   ],
   "metadata": {
    "collapsed": false,
    "pycharm": {
     "name": "#%%\n"
    }
   }
  },
  {
   "cell_type": "code",
   "execution_count": null,
   "outputs": [],
   "source": [
    "winter.loc[:,'Dates'] = winter.index\n",
    "winter.loc[:,'Time'] = winter.index.time\n",
    "winter_pivot = winter.pivot(index='Time', columns='Dates', values='uncontrollable')\n",
    "winter_pivot.loc[:,'median'] = winter_pivot.median(axis=1)\n",
    "winter_pivot.loc[:,'mean'] = winter_pivot.mean(axis=1)\n",
    "ax = winter_pivot.plot(y=['median', 'mean'])\n",
    "ax.set_title('Winter Median Load Profile')\n",
    "ax.set_ylabel('Consumption (Wh)')\n",
    "ax.set_xlabel('Time (24hr)')\n",
    "plt.show()"
   ],
   "metadata": {
    "collapsed": false,
    "pycharm": {
     "name": "#%%\n"
    }
   }
  },
  {
   "cell_type": "code",
   "execution_count": null,
   "outputs": [],
   "source": [
    "summer['Dates'] = summer.index\n",
    "summer['Time'] = summer.index.time\n",
    "summer_pivot = summer.pivot(index='Time', columns='Dates', values='uncontrollable')\n",
    "summer_pivot['median'] = summer_pivot.median(axis=1)\n",
    "summer_pivot['mean'] = summer_pivot.mean(axis=1)\n",
    "ax = summer_pivot.plot(y=['median', 'mean'])\n",
    "ax.set_title('Summer Median Load Profile')\n",
    "ax.set_ylabel('Consumption (Wh)')\n",
    "ax.set_xlabel('Time (24hr)')\n",
    "plt.show()"
   ],
   "metadata": {
    "collapsed": false,
    "pycharm": {
     "name": "#%%\n"
    }
   }
  },
  {
   "cell_type": "code",
   "execution_count": null,
   "outputs": [],
   "source": [
    "autumn['Dates'] = autumn.index\n",
    "autumn['Time'] = autumn.index.time\n",
    "autumn_pivot = autumn.pivot(index='Time', columns='Dates', values='uncontrollable')\n",
    "autumn_pivot['median']=autumn_pivot.median(axis=1)\n",
    "autumn_pivot['mean']=autumn_pivot.mean(axis=1)\n",
    "ax =autumn_pivot.plot(y='median')\n",
    "ax.set_title('Autumn Median Load Profile')\n",
    "ax.set_ylabel('Consumption (Wh)')\n",
    "ax.set_xlabel('Time (24hr)')\n",
    "plt.show()"
   ],
   "metadata": {
    "collapsed": false,
    "pycharm": {
     "name": "#%%\n"
    }
   }
  },
  {
   "cell_type": "code",
   "execution_count": null,
   "outputs": [],
   "source": [
    "fig, ax = plt.subplots(figsize=(7,7))\n",
    "spring_pivot.plot(y='median', ax=ax, label='spring')\n",
    "summer_pivot.plot(y='median', ax=ax, label='summer')\n",
    "autumn_pivot.plot(y='median', ax=ax, label='autumn')\n",
    "winter_pivot.plot(y='median', ax=ax, label='winter')\n",
    "ax.set_title('Median Load Profile by Season')\n",
    "ax.set_ylabel('Consumption (Wh)')\n",
    "ax.set_xlabel('Time (24hr)')\n",
    "plt.show()"
   ],
   "metadata": {
    "collapsed": false,
    "pycharm": {
     "name": "#%%\n"
    }
   }
  },
  {
   "cell_type": "code",
   "execution_count": null,
   "outputs": [],
   "source": [
    "\n",
    "day = summer['2019-12-10']\n",
    "day = day.set_index(day.index.time)\n",
    "day['predictedExcessPV'] = (day['pv_site_net'] - summer_pivot['median']).clip(lower=0)\n",
    "fig, ax = plt.subplots(ncols=2,figsize=(10,5))\n",
    "summer_pivot.plot(y='median', style='--', ax=ax[0], label='Median')\n",
    "day.plot(y='uncontrollable', ax=ax[0], alpha=0.7, label='Real')\n",
    "day.plot(y='load_air_conditioner', ax=ax[0], label='AC')\n",
    "day.plot(y=['predictedExcessPV', 'excessPV'], ax=ax[1], alpha=0.7, label=['Predicted', 'Real'])\n",
    "ax[0].set_ylabel('Power (Wh)')\n",
    "ax[0].set_xlabel('Time (24hr)')\n",
    "ax[0].set_title('Uncontrollable Residential Load H1')\n",
    "ax[1].set_ylabel('Power (Wh)')\n",
    "ax[1].set_xlabel('Time (24hr)')\n",
    "ax[1].set_title('Excess PV H1')\n",
    "fig.suptitle('2019-12-10')\n",
    "plt.show()\n",
    "\n"
   ],
   "metadata": {
    "collapsed": false,
    "pycharm": {
     "name": "#%%\n"
    }
   }
  },
  {
   "cell_type": "code",
   "execution_count": null,
   "outputs": [],
   "source": [
    "house1.loc[((house1['controllable']>0) & (house1['excessPV']> 0)),'CLPV'] = ((house1['controllable']>0) & (house1['excessPV']> 0))\n",
    "house1['2019-01-10'].plot(y=['controllable','CLPV'])"
   ],
   "metadata": {
    "collapsed": false,
    "pycharm": {
     "name": "#%%\n"
    }
   }
  },
  {
   "cell_type": "code",
   "execution_count": null,
   "outputs": [],
   "source": [
    "\n"
   ],
   "metadata": {
    "collapsed": false,
    "pycharm": {
     "name": "#%%\n"
    }
   }
  }
 ],
 "metadata": {
  "kernelspec": {
   "name": "pycharm-16601492",
   "language": "python",
   "display_name": "PyCharm (Thesis1)"
  },
  "language_info": {
   "codemirror_mode": {
    "name": "ipython",
    "version": 2
   },
   "file_extension": ".py",
   "mimetype": "text/x-python",
   "name": "python",
   "nbconvert_exporter": "python",
   "pygments_lexer": "ipython2",
   "version": "2.7.6"
  }
 },
 "nbformat": 4,
 "nbformat_minor": 0
}