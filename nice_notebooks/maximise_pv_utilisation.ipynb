{
 "cells": [
  {
   "cell_type": "markdown",
   "source": [
    "# Maximising PV self consumption (PV Utilisation)\n",
    "This Notebook maximises PV Self consumption by moving the controlled load start time throughout the day\n",
    "The start time that results in the maximum PV self consumption is saved\n",
    "## Select a house\n",
    "| HouseID   |   Load        |\n",
    "|---------  |   ------      |\n",
    "|64613      |   hot_water   |\n",
    "|70210      |   pool        |\n",
    "|70243      |   hot_water   |\n",
    "|70277      |   hot_water   |\n",
    "|91912      |   pool        |\n",
    "|91910      |   hot_water   |"
   ],
   "metadata": {
    "collapsed": false
   }
  },
  {
   "cell_type": "code",
   "execution_count": 3,
   "outputs": [
    {
     "name": "stdout",
     "output_type": "stream",
     "text": [
      "64613\n",
      "69914\n",
      "70177\n",
      "70210\n",
      "70243\n",
      "70277\n",
      "91341\n",
      "91910\n",
      "91911\n",
      "91912\n",
      "97245\n"
     ]
    }
   ],
   "source": [
    "from os import path\n",
    "from os import getcwd, listdir\n",
    "path_to_data = path.join('..', 'data', 'houses')\n",
    "houses = listdir(path_to_data)\n",
    "for h in houses: print(path.splitext(h)[0])"
   ],
   "metadata": {
    "collapsed": false,
    "pycharm": {
     "name": "#%%\n"
    }
   }
  },
  {
   "cell_type": "code",
   "execution_count": 4,
   "outputs": [],
   "source": [
    "import pandas as pd\n",
    "import numpy as np\n",
    "import matplotlib.pyplot as plt\n",
    "from thesisInitial.cleaning_data import extract_data_from_house, extract_rated_power, extract_average_time_on, apply_new_load\n",
    "import seaborn as sns\n",
    "sns.set()\n",
    "house_id = 69914\n",
    "load_type = 'hot_water'"
   ],
   "metadata": {
    "collapsed": false,
    "pycharm": {
     "name": "#%%\n"
    }
   }
  },
  {
   "cell_type": "markdown",
   "source": [
    "### Importing Data and cleaning up"
   ],
   "metadata": {
    "collapsed": false
   }
  },
  {
   "cell_type": "code",
   "execution_count": 5,
   "outputs": [
    {
     "data": {
      "text/plain": "                       load      PV       AC  total_use  grid_import  \\\nreading_datetime                                                       \n2019-01-01 00:00:00  0.0194 -0.0733  70.0850    70.0311      70.1044   \n2019-01-01 00:05:00  0.0197 -0.0736  69.2019    69.1480      69.2216   \n2019-01-01 00:10:00  0.0192 -0.0728  66.6908    66.6372      66.7100   \n2019-01-01 00:15:00  0.0194 -0.0733  68.1369    68.0830      68.1563   \n2019-01-01 00:20:00  0.0225 -0.0742  81.0847    81.0330      81.1072   \n\n                     grid_export  \nreading_datetime                  \n2019-01-01 00:00:00          0.0  \n2019-01-01 00:05:00          0.0  \n2019-01-01 00:10:00          0.0  \n2019-01-01 00:15:00          0.0  \n2019-01-01 00:20:00          0.0  ",
      "text/html": "<div>\n<style scoped>\n    .dataframe tbody tr th:only-of-type {\n        vertical-align: middle;\n    }\n\n    .dataframe tbody tr th {\n        vertical-align: top;\n    }\n\n    .dataframe thead th {\n        text-align: right;\n    }\n</style>\n<table border=\"1\" class=\"dataframe\">\n  <thead>\n    <tr style=\"text-align: right;\">\n      <th></th>\n      <th>load</th>\n      <th>PV</th>\n      <th>AC</th>\n      <th>total_use</th>\n      <th>grid_import</th>\n      <th>grid_export</th>\n    </tr>\n    <tr>\n      <th>reading_datetime</th>\n      <th></th>\n      <th></th>\n      <th></th>\n      <th></th>\n      <th></th>\n      <th></th>\n    </tr>\n  </thead>\n  <tbody>\n    <tr>\n      <th>2019-01-01 00:00:00</th>\n      <td>0.0194</td>\n      <td>-0.0733</td>\n      <td>70.0850</td>\n      <td>70.0311</td>\n      <td>70.1044</td>\n      <td>0.0</td>\n    </tr>\n    <tr>\n      <th>2019-01-01 00:05:00</th>\n      <td>0.0197</td>\n      <td>-0.0736</td>\n      <td>69.2019</td>\n      <td>69.1480</td>\n      <td>69.2216</td>\n      <td>0.0</td>\n    </tr>\n    <tr>\n      <th>2019-01-01 00:10:00</th>\n      <td>0.0192</td>\n      <td>-0.0728</td>\n      <td>66.6908</td>\n      <td>66.6372</td>\n      <td>66.7100</td>\n      <td>0.0</td>\n    </tr>\n    <tr>\n      <th>2019-01-01 00:15:00</th>\n      <td>0.0194</td>\n      <td>-0.0733</td>\n      <td>68.1369</td>\n      <td>68.0830</td>\n      <td>68.1563</td>\n      <td>0.0</td>\n    </tr>\n    <tr>\n      <th>2019-01-01 00:20:00</th>\n      <td>0.0225</td>\n      <td>-0.0742</td>\n      <td>81.0847</td>\n      <td>81.0330</td>\n      <td>81.1072</td>\n      <td>0.0</td>\n    </tr>\n  </tbody>\n</table>\n</div>"
     },
     "execution_count": 5,
     "metadata": {},
     "output_type": "execute_result"
    }
   ],
   "source": [
    "house_id = 64613\n",
    "data = extract_data_from_house(house_id, load_type)\n",
    "rated_power = extract_rated_power(data.load)\n",
    "average_duration = extract_average_time_on(data.load)\n",
    "data.head()"
   ],
   "metadata": {
    "collapsed": false,
    "pycharm": {
     "name": "#%%\n"
    }
   }
  },
  {
   "cell_type": "code",
   "execution_count": 6,
   "metadata": {
    "collapsed": true
   },
   "outputs": [
    {
     "name": "stdout",
     "output_type": "stream",
     "text": [
      "2019-01-01\n",
      "2019-01-02\n",
      "2019-01-03\n",
      "2019-01-04\n",
      "2019-01-05\n",
      "2019-01-06\n",
      "2019-01-07\n",
      "2019-01-08\n",
      "2019-01-09\n",
      "2019-01-10\n",
      "2019-01-11\n",
      "2019-01-12\n",
      "2019-01-13\n",
      "2019-01-14\n",
      "2019-01-15\n",
      "2019-01-16\n",
      "2019-01-17\n",
      "2019-01-18\n",
      "2019-01-19\n",
      "2019-01-20\n",
      "2019-01-21\n",
      "2019-01-22\n",
      "2019-01-23\n",
      "2019-01-24\n",
      "2019-01-25\n",
      "2019-01-26\n",
      "2019-01-27\n",
      "2019-01-28\n",
      "2019-01-29\n",
      "2019-01-30\n",
      "2019-01-31\n",
      "Time taken 14.74s\n",
      "done\n"
     ]
    }
   ],
   "source": [
    "from time import time\n",
    "def generate_load(index, start_time):\n",
    "    duration = pd.Timedelta(value=average_duration,unit='m')\n",
    "    y = pd.Series(np.zeros(len(pv_day)), index = index)\n",
    "    start_time = pd.Timestamp(index[0]) + pd.Timedelta(value=start_time, unit='h')\n",
    "    end_time = start_time + duration\n",
    "    y[start_time:end_time] = (rated_power / 12) * 1000\n",
    "    return y\n",
    "\n",
    "def extract_load(load, start_time):\n",
    "    pass\n",
    "\n",
    "date_range = ['2019-01','2019-01']\n",
    "\n",
    "new_pv_utilisation = pd.Series(dtype='float64')\n",
    "new_load = pd.Series(dtype='float64')\n",
    "days_in_set = data[date_range[0]:date_range[1]].index.date\n",
    "days_in_set = np.unique(days_in_set)\n",
    "start = time()\n",
    "for day in days_in_set:\n",
    "    date = str(day)\n",
    "    print(date)\n",
    "    con_without_load = data[date].total_use - data[date].load\n",
    "    pv_day = data[date].PV\n",
    "    max_pv_util = pd.Series(dtype='float64')\n",
    "    max_time = 0\n",
    "    for i in range(int((24 * 60) / 5)):\n",
    "        index = con_without_load.index\n",
    "        load = generate_load(index, i)\n",
    "        con_load = con_without_load + load\n",
    "        pv_util = pd.concat([pv_day, con_load], axis=1).min(axis=1).clip(lower=0)\n",
    "#         pv_util.rename('pv_util')\n",
    "        if pv_util.sum() > max_pv_util.sum():\n",
    "            max_pv_util = pv_util\n",
    "            max_load = load\n",
    "            max_time = i\n",
    "    new_pv_utilisation = new_pv_utilisation.append(max_pv_util)\n",
    "    new_load = new_load.append(max_load)\n",
    "print('Time taken ' + '{:.2f}'.format(time()-start) + 's')\n",
    "# pv_utilisation[str(days_in_set[0])].plot()\n",
    "# new_pv_utilisation.plot()\n",
    "# plt.show()\n",
    "print('done')"
   ]
  },
  {
   "cell_type": "markdown",
   "source": [
    "The reason the load total is greater for after shifting is the generate_load function\n",
    "makes a load from the average_duration and rated_power.\n",
    "\n",
    "This is an estimation of the load"
   ],
   "metadata": {
    "collapsed": false,
    "pycharm": {
     "name": "#%% md\n"
    }
   }
  },
  {
   "cell_type": "code",
   "execution_count": 12,
   "outputs": [
    {
     "name": "stdout",
     "output_type": "stream",
     "text": [
      "Before PV Self Consumption Maximising\n",
      "load total 56.95kWh\n",
      "load serviced by PV Total 0.00kWh\n",
      "\n",
      "After PV Self Consumption Maximising\n",
      "load total 78.19kWh\n",
      "load serviced by PV Total 65.89kWh\n"
     ]
    }
   ],
   "source": [
    "data_range = data[date_range[0]:date_range[1]]\n",
    "pv_utilisation = pd.concat([data_range.PV, data_range.total_use], axis=1).min(axis=1).clip(lower=0)\n",
    "house_consumption_when_loadon_pvgen = np.where(((data_range.PV > 1) & (load > 10)), pv_utilisation, 0)\n",
    "load_serviced_by_PV = (house_consumption_when_loadon_pvgen - data_range.total_use - data_range.load).clip(lower=0)\n",
    "print('Before PV Self Consumption Maximising')\n",
    "print(\"load total \" + \"{:.2f}\".format(data_range.load.sum() / 1000) + \"kWh\")\n",
    "print(\"load serviced by PV Total \" + \"{:.2f}\".format(load_serviced_by_PV.sum() / 1000) + \"kWh\")\n",
    "print()\n",
    "house_consumption_when_loadon_pvgen = pd.DataFrame(index=data_range.PV.index)\n",
    "house_consumption_when_loadon_pvgen['power'] = np.where(((data_range.PV > 1) & (new_load > 10)), new_pv_utilisation, 0)\n",
    "house_consumption_when_loadon_pvgen=house_consumption_when_loadon_pvgen.power\n",
    "load_serviced_by_PV = (house_consumption_when_loadon_pvgen - data_range.total_use - data_range.load).clip(lower=0)\n",
    "print('After PV Self Consumption Maximising')\n",
    "print(\"load total \" + \"{:.2f}\".format(new_load.sum() / 1000) + \"kWh\")\n",
    "print(\"load serviced by PV Total \" + \"{:.2f}\".format(load_serviced_by_PV.sum() / 1000) + \"kWh\")"
   ],
   "metadata": {
    "collapsed": false,
    "pycharm": {
     "name": "#%%\n"
    }
   }
  },
  {
   "cell_type": "code",
   "execution_count": 8,
   "outputs": [
    {
     "data": {
      "text/plain": "<Figure size 432x288 with 1 Axes>",
      "image/png": "[encoded data removed]"
     },
     "metadata": {},
     "output_type": "display_data"
    }
   ],
   "source": [
    "load_serviced_by_PV_24h = load_serviced_by_PV.resample('24h').sum() / 1000\n",
    "load_24h = new_load.resample('24h').sum() / 1000\n",
    "pv_24h = data_range.PV.resample('24h').sum() / 1000\n",
    "\n",
    "load_serviced_by_PV_24h.plot(label='Serviced by PV')\n",
    "load_24h.plot(label='Load')\n",
    "pv_24h.plot(label='PV')\n",
    "plt.legend()\n",
    "plt.show()"
   ],
   "metadata": {
    "collapsed": false,
    "pycharm": {
     "name": "#%%\n"
    }
   }
  }
 ],
 "metadata": {
  "kernelspec": {
   "name": "pycharm-16601492",
   "language": "python",
   "display_name": "PyCharm (Thesis1)"
  },
  "language_info": {
   "codemirror_mode": {
    "name": "ipython",
    "version": 2
   },
   "file_extension": ".py",
   "mimetype": "text/x-python",
   "name": "python",
   "nbconvert_exporter": "python",
   "pygments_lexer": "ipython2",
   "version": "2.7.6"
  }
 },
 "nbformat": 4,
 "nbformat_minor": 0
}