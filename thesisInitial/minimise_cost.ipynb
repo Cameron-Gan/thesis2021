{
 "cells": [
  {
   "cell_type": "markdown",
   "source": [
    "# Minimise Cost with Tariff\n",
    "### Select House"
   ],
   "metadata": {
    "collapsed": false,
    "pycharm": {
     "name": "#%% md\n"
    }
   }
  },
  {
   "cell_type": "code",
   "execution_count": 3,
   "metadata": {
    "collapsed": true
   },
   "outputs": [
    {
     "name": "stdout",
     "output_type": "stream",
     "text": [
      "64613\n",
      "69914\n",
      "70177\n",
      "70210\n",
      "70243\n",
      "70277\n",
      "91341\n",
      "91910\n",
      "91911\n",
      "91912\n",
      "97245\n"
     ]
    }
   ],
   "source": [
    "from os import path\n",
    "from os import getcwd, listdir\n",
    "path_to_data = path.join('..', 'data', 'houses')\n",
    "houses = listdir(path_to_data)\n",
    "for h in houses: print(path.splitext(h)[0])"
   ]
  },
  {
   "cell_type": "code",
   "execution_count": 4,
   "outputs": [],
   "source": [
    "import pandas as pd\n",
    "import numpy as np\n",
    "import matplotlib.pyplot as plt\n",
    "from thesisInitial.cleaning_data import extract_data_from_house, \\\n",
    "    extract_rated_power, extract_average_time_on, apply_new_load, generate_load\n",
    "import seaborn as sns\n",
    "import thesisInitial.tariff as tf\n",
    "import time\n",
    "\n",
    "sns.set()\n",
    "house_id = 64613\n",
    "load_type = 'hot_water'"
   ],
   "metadata": {
    "collapsed": false,
    "pycharm": {
     "name": "#%%\n"
    }
   }
  },
  {
   "cell_type": "markdown",
   "source": [
    "### Importing Data and cleaning up"
   ],
   "metadata": {
    "collapsed": false
   }
  },
  {
   "cell_type": "code",
   "execution_count": 5,
   "outputs": [
    {
     "data": {
      "text/plain": "                       load      PV       AC  total_use  grid_import  \\\nreading_datetime                                                       \n2019-01-01 00:00:00  0.0194 -0.0733  70.0850    70.0311      70.1044   \n2019-01-01 00:05:00  0.0197 -0.0736  69.2019    69.1480      69.2216   \n2019-01-01 00:10:00  0.0192 -0.0728  66.6908    66.6372      66.7100   \n2019-01-01 00:15:00  0.0194 -0.0733  68.1369    68.0830      68.1563   \n2019-01-01 00:20:00  0.0225 -0.0742  81.0847    81.0330      81.1072   \n\n                     grid_export  \nreading_datetime                  \n2019-01-01 00:00:00          0.0  \n2019-01-01 00:05:00          0.0  \n2019-01-01 00:10:00          0.0  \n2019-01-01 00:15:00          0.0  \n2019-01-01 00:20:00          0.0  ",
      "text/html": "<div>\n<style scoped>\n    .dataframe tbody tr th:only-of-type {\n        vertical-align: middle;\n    }\n\n    .dataframe tbody tr th {\n        vertical-align: top;\n    }\n\n    .dataframe thead th {\n        text-align: right;\n    }\n</style>\n<table border=\"1\" class=\"dataframe\">\n  <thead>\n    <tr style=\"text-align: right;\">\n      <th></th>\n      <th>load</th>\n      <th>PV</th>\n      <th>AC</th>\n      <th>total_use</th>\n      <th>grid_import</th>\n      <th>grid_export</th>\n    </tr>\n    <tr>\n      <th>reading_datetime</th>\n      <th></th>\n      <th></th>\n      <th></th>\n      <th></th>\n      <th></th>\n      <th></th>\n    </tr>\n  </thead>\n  <tbody>\n    <tr>\n      <th>2019-01-01 00:00:00</th>\n      <td>0.0194</td>\n      <td>-0.0733</td>\n      <td>70.0850</td>\n      <td>70.0311</td>\n      <td>70.1044</td>\n      <td>0.0</td>\n    </tr>\n    <tr>\n      <th>2019-01-01 00:05:00</th>\n      <td>0.0197</td>\n      <td>-0.0736</td>\n      <td>69.2019</td>\n      <td>69.1480</td>\n      <td>69.2216</td>\n      <td>0.0</td>\n    </tr>\n    <tr>\n      <th>2019-01-01 00:10:00</th>\n      <td>0.0192</td>\n      <td>-0.0728</td>\n      <td>66.6908</td>\n      <td>66.6372</td>\n      <td>66.7100</td>\n      <td>0.0</td>\n    </tr>\n    <tr>\n      <th>2019-01-01 00:15:00</th>\n      <td>0.0194</td>\n      <td>-0.0733</td>\n      <td>68.1369</td>\n      <td>68.0830</td>\n      <td>68.1563</td>\n      <td>0.0</td>\n    </tr>\n    <tr>\n      <th>2019-01-01 00:20:00</th>\n      <td>0.0225</td>\n      <td>-0.0742</td>\n      <td>81.0847</td>\n      <td>81.0330</td>\n      <td>81.1072</td>\n      <td>0.0</td>\n    </tr>\n  </tbody>\n</table>\n</div>"
     },
     "execution_count": 5,
     "metadata": {},
     "output_type": "execute_result"
    }
   ],
   "source": [
    "data = extract_data_from_house(house_id, load_type)\n",
    "rated_power = extract_rated_power(data.load)\n",
    "average_duration = extract_average_time_on(data.load)\n",
    "data.head()"
   ],
   "metadata": {
    "collapsed": false,
    "pycharm": {
     "name": "#%%\n"
    }
   }
  },
  {
   "cell_type": "markdown",
   "source": [
    "### Tariff Choices\n",
    "There are 4 Tariff Categories Currently\n",
    "<li> flat\n",
    "<li> Time of Use (TOU)\n",
    "<li> Flat with controlled Load\n",
    "<li> TOU with controlled load"
   ],
   "metadata": {
    "collapsed": false
   }
  },
  {
   "cell_type": "code",
   "execution_count": 6,
   "outputs": [
    {
     "name": "stdout",
     "output_type": "stream",
     "text": [
      "Tariff Name: OriginGo\n"
     ]
    }
   ],
   "source": [
    "tariff_type = 'TOU'\n",
    "tariffs = tf.read_tariffs()\n",
    "\n",
    "tariff = None\n",
    "for t in tariffs:\n",
    "    if t.tariff_type == tariff_type:\n",
    "        tariff = t\n",
    "\n",
    "print(\"Tariff Name: \" + tariff.tariff_name)\n"
   ],
   "metadata": {
    "collapsed": false,
    "pycharm": {
     "name": "#%%\n"
    }
   }
  },
  {
   "cell_type": "code",
   "execution_count": 7,
   "outputs": [
    {
     "name": "stdout",
     "output_type": "stream",
     "text": [
      "Import Cost $1306.76\n",
      "Export Revenue $249.07\n",
      "Net Cost $1057.69\n"
     ]
    }
   ],
   "source": [
    "data['import_cost'] = tariff.get_cost(data['2019'][['grid_import', 'load']] / 1000)\n",
    "data['export_revenue'] = (data['2019'].grid_export / 1000) * tariff.get_fit()\n",
    "print('Import Cost' + \" ${:.2f}\".format(data.import_cost.sum() / 100))\n",
    "print(\"Export Revenue\" \" ${:.2f}\".format(data.export_revenue.sum() / 100))\n",
    "print(\"Net Cost\" + \" ${:.2f}\".format(data.import_cost.sum() / 100 - data.export_revenue.sum() / 100))"
   ],
   "metadata": {
    "collapsed": false,
    "pycharm": {
     "name": "#%%\n"
    }
   }
  },
  {
   "cell_type": "markdown",
   "source": [
    "#### Preload Possible Load Times Using Average Duration and Rated Power"
   ],
   "metadata": {
    "collapsed": false,
    "pycharm": {
     "name": "#%% md\n"
    }
   }
  },
  {
   "cell_type": "code",
   "execution_count": 9,
   "outputs": [
    {
     "name": "stdout",
     "output_type": "stream",
     "text": [
      "0.31017231941223145\n"
     ]
    },
    {
     "data": {
      "text/plain": "                     00:00:00  00:05:00  00:10:00  00:15:00  00:20:00  \\\nreading_datetime                                                        \n2019-01-01 00:00:00  132.7443    0.0000    0.0000    0.0000    0.0000   \n2019-01-01 00:05:00  132.7443  132.7443    0.0000    0.0000    0.0000   \n2019-01-01 00:10:00  132.7443  132.7443  132.7443    0.0000    0.0000   \n2019-01-01 00:15:00  132.7443  132.7443  132.7443  132.7443    0.0000   \n2019-01-01 00:20:00  132.7443  132.7443  132.7443  132.7443  132.7443   \n\n                     00:25:00  00:30:00  00:35:00  00:40:00  00:45:00  ...  \\\nreading_datetime                                                       ...   \n2019-01-01 00:00:00       0.0       0.0       0.0       0.0       0.0  ...   \n2019-01-01 00:05:00       0.0       0.0       0.0       0.0       0.0  ...   \n2019-01-01 00:10:00       0.0       0.0       0.0       0.0       0.0  ...   \n2019-01-01 00:15:00       0.0       0.0       0.0       0.0       0.0  ...   \n2019-01-01 00:20:00       0.0       0.0       0.0       0.0       0.0  ...   \n\n                     21:40:00  21:45:00  21:50:00  21:55:00  22:00:00  \\\nreading_datetime                                                        \n2019-01-01 00:00:00       0.0       0.0       0.0       0.0       0.0   \n2019-01-01 00:05:00       0.0       0.0       0.0       0.0       0.0   \n2019-01-01 00:10:00       0.0       0.0       0.0       0.0       0.0   \n2019-01-01 00:15:00       0.0       0.0       0.0       0.0       0.0   \n2019-01-01 00:20:00       0.0       0.0       0.0       0.0       0.0   \n\n                     22:05:00  22:10:00  22:15:00  22:20:00  22:25:00  \nreading_datetime                                                       \n2019-01-01 00:00:00       0.0       0.0       0.0       0.0       0.0  \n2019-01-01 00:05:00       0.0       0.0       0.0       0.0       0.0  \n2019-01-01 00:10:00       0.0       0.0       0.0       0.0       0.0  \n2019-01-01 00:15:00       0.0       0.0       0.0       0.0       0.0  \n2019-01-01 00:20:00       0.0       0.0       0.0       0.0       0.0  \n\n[5 rows x 270 columns]",
      "text/html": "<div>\n<style scoped>\n    .dataframe tbody tr th:only-of-type {\n        vertical-align: middle;\n    }\n\n    .dataframe tbody tr th {\n        vertical-align: top;\n    }\n\n    .dataframe thead th {\n        text-align: right;\n    }\n</style>\n<table border=\"1\" class=\"dataframe\">\n  <thead>\n    <tr style=\"text-align: right;\">\n      <th></th>\n      <th>00:00:00</th>\n      <th>00:05:00</th>\n      <th>00:10:00</th>\n      <th>00:15:00</th>\n      <th>00:20:00</th>\n      <th>00:25:00</th>\n      <th>00:30:00</th>\n      <th>00:35:00</th>\n      <th>00:40:00</th>\n      <th>00:45:00</th>\n      <th>...</th>\n      <th>21:40:00</th>\n      <th>21:45:00</th>\n      <th>21:50:00</th>\n      <th>21:55:00</th>\n      <th>22:00:00</th>\n      <th>22:05:00</th>\n      <th>22:10:00</th>\n      <th>22:15:00</th>\n      <th>22:20:00</th>\n      <th>22:25:00</th>\n    </tr>\n    <tr>\n      <th>reading_datetime</th>\n      <th></th>\n      <th></th>\n      <th></th>\n      <th></th>\n      <th></th>\n      <th></th>\n      <th></th>\n      <th></th>\n      <th></th>\n      <th></th>\n      <th></th>\n      <th></th>\n      <th></th>\n      <th></th>\n      <th></th>\n      <th></th>\n      <th></th>\n      <th></th>\n      <th></th>\n      <th></th>\n      <th></th>\n    </tr>\n  </thead>\n  <tbody>\n    <tr>\n      <th>2019-01-01 00:00:00</th>\n      <td>132.7443</td>\n      <td>0.0000</td>\n      <td>0.0000</td>\n      <td>0.0000</td>\n      <td>0.0000</td>\n      <td>0.0</td>\n      <td>0.0</td>\n      <td>0.0</td>\n      <td>0.0</td>\n      <td>0.0</td>\n      <td>...</td>\n      <td>0.0</td>\n      <td>0.0</td>\n      <td>0.0</td>\n      <td>0.0</td>\n      <td>0.0</td>\n      <td>0.0</td>\n      <td>0.0</td>\n      <td>0.0</td>\n      <td>0.0</td>\n      <td>0.0</td>\n    </tr>\n    <tr>\n      <th>2019-01-01 00:05:00</th>\n      <td>132.7443</td>\n      <td>132.7443</td>\n      <td>0.0000</td>\n      <td>0.0000</td>\n      <td>0.0000</td>\n      <td>0.0</td>\n      <td>0.0</td>\n      <td>0.0</td>\n      <td>0.0</td>\n      <td>0.0</td>\n      <td>...</td>\n      <td>0.0</td>\n      <td>0.0</td>\n      <td>0.0</td>\n      <td>0.0</td>\n      <td>0.0</td>\n      <td>0.0</td>\n      <td>0.0</td>\n      <td>0.0</td>\n      <td>0.0</td>\n      <td>0.0</td>\n    </tr>\n    <tr>\n      <th>2019-01-01 00:10:00</th>\n      <td>132.7443</td>\n      <td>132.7443</td>\n      <td>132.7443</td>\n      <td>0.0000</td>\n      <td>0.0000</td>\n      <td>0.0</td>\n      <td>0.0</td>\n      <td>0.0</td>\n      <td>0.0</td>\n      <td>0.0</td>\n      <td>...</td>\n      <td>0.0</td>\n      <td>0.0</td>\n      <td>0.0</td>\n      <td>0.0</td>\n      <td>0.0</td>\n      <td>0.0</td>\n      <td>0.0</td>\n      <td>0.0</td>\n      <td>0.0</td>\n      <td>0.0</td>\n    </tr>\n    <tr>\n      <th>2019-01-01 00:15:00</th>\n      <td>132.7443</td>\n      <td>132.7443</td>\n      <td>132.7443</td>\n      <td>132.7443</td>\n      <td>0.0000</td>\n      <td>0.0</td>\n      <td>0.0</td>\n      <td>0.0</td>\n      <td>0.0</td>\n      <td>0.0</td>\n      <td>...</td>\n      <td>0.0</td>\n      <td>0.0</td>\n      <td>0.0</td>\n      <td>0.0</td>\n      <td>0.0</td>\n      <td>0.0</td>\n      <td>0.0</td>\n      <td>0.0</td>\n      <td>0.0</td>\n      <td>0.0</td>\n    </tr>\n    <tr>\n      <th>2019-01-01 00:20:00</th>\n      <td>132.7443</td>\n      <td>132.7443</td>\n      <td>132.7443</td>\n      <td>132.7443</td>\n      <td>132.7443</td>\n      <td>0.0</td>\n      <td>0.0</td>\n      <td>0.0</td>\n      <td>0.0</td>\n      <td>0.0</td>\n      <td>...</td>\n      <td>0.0</td>\n      <td>0.0</td>\n      <td>0.0</td>\n      <td>0.0</td>\n      <td>0.0</td>\n      <td>0.0</td>\n      <td>0.0</td>\n      <td>0.0</td>\n      <td>0.0</td>\n      <td>0.0</td>\n    </tr>\n  </tbody>\n</table>\n<p>5 rows × 270 columns</p>\n</div>"
     },
     "execution_count": 9,
     "metadata": {},
     "output_type": "execute_result"
    }
   ],
   "source": [
    "index = data['2019-01-01'].index\n",
    "possible_loads = pd.DataFrame(index=index)\n",
    "# print(possible_loads.index)\n",
    "start = time.time()\n",
    "for i in range(int((24*60) / 5)):\n",
    "    start_time = pd.Timestamp(possible_loads.index[0]) + pd.Timedelta(value=i * 5, unit='m')\n",
    "    new_load, break_flag = generate_load(index, i, average_duration, rated_power)\n",
    "    if break_flag:\n",
    "        break\n",
    "    new_load = new_load.rename(start_time.time())\n",
    "    possible_loads = pd.concat([possible_loads, new_load], axis=1)\n",
    "print(time.time() - start)\n",
    "possible_loads.head()"
   ],
   "metadata": {
    "collapsed": false,
    "pycharm": {
     "name": "#%%\n"
    }
   }
  },
  {
   "cell_type": "markdown",
   "source": [
    "#### Preload Possible Load Times Using Average Duration and Rated Power"
   ],
   "metadata": {
    "collapsed": false
   }
  },
  {
   "cell_type": "code",
   "execution_count": null,
   "outputs": [],
   "source": [
    "index = data['2019-01-01'].index\n",
    "possible_loads = pd.DataFrame(index=index)\n",
    "# print(possible_loads.index)\n",
    "start = time.time()\n",
    "for i in range(int((24*60) / 5)):\n",
    "    start_time = pd.Timestamp(possible_loads.index[0]) + pd.Timedelta(value=i * 5, unit='m')\n",
    "    new_load, break_flag = generate_load(index, i, average_duration, rated_power)\n",
    "    if break_flag:\n",
    "        break\n",
    "    new_load = new_load.rename(start_time.time())\n",
    "    possible_loads = pd.concat([possible_loads, new_load], axis=1)\n",
    "print(time.time() - start)\n",
    "possible_loads.head()"
   ],
   "metadata": {
    "collapsed": false,
    "pycharm": {
     "name": "#%%\n"
    }
   }
  },
  {
   "cell_type": "markdown",
   "source": [
    "### Minimising Cost Loop\n",
    "Loops over all the possible load start times and returns the load and cost of the minimum load start time"
   ],
   "metadata": {
    "collapsed": false,
    "pycharm": {
     "name": "#%% md\n"
    }
   }
  },
  {
   "cell_type": "code",
   "execution_count": 24,
   "outputs": [
    {
     "name": "stdout",
     "output_type": "stream",
     "text": [
      "2019-02-01\n",
      "2019-02-02\n",
      "2019-02-03\n",
      "2019-02-04\n",
      "2019-02-05\n",
      "2019-02-06\n",
      "2019-02-07\n",
      "2019-02-08\n",
      "2019-02-09\n",
      "2019-02-10\n",
      "2019-02-11\n",
      "2019-02-12\n",
      "2019-02-13\n",
      "2019-02-14\n",
      "2019-02-15\n",
      "2019-02-16\n",
      "2019-02-17\n",
      "2019-02-18\n",
      "2019-02-19\n",
      "2019-02-20\n",
      "2019-02-21\n",
      "2019-02-22\n",
      "2019-02-23\n",
      "2019-02-24\n",
      "2019-02-25\n",
      "2019-02-26\n",
      "2019-02-27\n",
      "2019-02-28\n",
      "13.435747861862183\n",
      "done\n"
     ]
    }
   ],
   "source": [
    "# Date Range to Minimise Cost\n",
    "date_range = '2019-02'\n",
    "\n",
    "days_in_set = data[date_range].index.date\n",
    "days_in_set = np.unique(days_in_set)\n",
    "min_cost_load = pd.Series(dtype='float64')\n",
    "start = time.time()\n",
    "for day in days_in_set:\n",
    "    date = str(day)\n",
    "    print(date)\n",
    "    total_use_without_load = data[date].total_use - data[date].load\n",
    "    pv_day = data.PV[date]\n",
    "    grid_import_cost = tariff.get_cost(data[date][['grid_import', 'load']] / 1000).sum()\n",
    "    grid_export_revenue = data[date]['grid_export'] / 1000 * tariff.get_fit()\n",
    "    # min_cost = grid_import_cost.sum() - grid_export_revenue.sum()\n",
    "    min_cost = 10000\n",
    "    max_time = 0\n",
    "    max_load = data[date].load\n",
    "    index = pd.date_range(pd.to_datetime(date+\" 00:00:00\"), periods=288, freq='5T')\n",
    "    tariff_series = tariff.get_tariff_from_time_index(index.hour).astype(float)\n",
    "    possible_loads.index = possible_loads.index.map(lambda x : x.replace(year=day.year, month=day.month, day=day.day))\n",
    "    for col in possible_loads.columns:\n",
    "        new_load = possible_loads.loc[:,col]\n",
    "        new_total_use = total_use_without_load + new_load\n",
    "        new_grid_import = (new_total_use - pv_day).clip(lower=0)\n",
    "        new_grid_export = ((new_total_use - pv_day) * -1).clip(lower=0)\n",
    "        new_grid_import_cost = (new_grid_import / 1000) * tariff_series\n",
    "        new_grid_export_revenue = (new_grid_export / 1000) * tariff.get_fit()\n",
    "        new_cost_net = new_grid_import_cost.sum(axis=0) - new_grid_export_revenue.sum(axis=0)\n",
    "        if new_cost_net < min_cost:\n",
    "            min_cost = new_cost_net\n",
    "            max_load = new_load\n",
    "            max_time = col\n",
    "\n",
    "    min_cost_load = pd.concat([min_cost_load, max_load], axis=0)\n",
    "print(time.time() - start)\n",
    "print('done')"
   ],
   "metadata": {
    "collapsed": false,
    "pycharm": {
     "name": "#%%\n"
    }
   }
  },
  {
   "cell_type": "markdown",
   "source": [
    "### Makes a new Dataframe with the minimised load instead of the real load"
   ],
   "metadata": {
    "collapsed": false,
    "pycharm": {
     "name": "#%% md\n"
    }
   }
  },
  {
   "cell_type": "code",
   "execution_count": null,
   "outputs": [],
   "source": [
    "data_copy = data[date_range].copy(deep=True)\n",
    "new_load = min_cost_load[~min_cost_load.index.duplicated(keep='last')]\n",
    "new_load = new_load.rename('load')\n",
    "new_total_use = (data_copy.total_use - data_copy.load + new_load).rename('total_use')\n",
    "new_AC = (new_total_use - data_copy.PV).rename('AC')\n",
    "new_grid_import = new_AC.clip(lower=0).rename('grid_import')\n",
    "new_grid_export = (new_AC * -1).clip(lower=0).rename('grid_export')\n",
    "new_data = pd.concat([new_load, data_copy.PV, new_AC, new_total_use, new_grid_import, new_grid_export], axis=1)"
   ],
   "metadata": {
    "collapsed": false,
    "pycharm": {
     "name": "#%%\n"
    }
   }
  },
  {
   "cell_type": "code",
   "execution_count": null,
   "outputs": [],
   "source": [
    "date = '2019-01-30'\n",
    "days_in_set = data[date_range].index.date\n",
    "days_in_set = np.unique(days_in_set)\n",
    "for day in days_in_set:\n",
    "    date = str(day)\n",
    "    fig, ax = plt.subplots(nrows=1, ncols=2, figsize=(10,6))\n",
    "    data[date].total_use.plot(ax=ax[0], alpha=0.5)\n",
    "    data[date].load.clip(lower=0).plot.area(ax=ax[0])\n",
    "    data[date].grid_export.plot.area(ax=ax[0], alpha=0.7)\n",
    "    cost = tariff.get_cost(data[date][['grid_import', 'load']]/1000).sum() / 100\n",
    "    revenue = ((data[date].grid_export / 1000) * tariff.get_fit()).sum() / 100\n",
    "    ax[0].set_title('Cost $%.2f\\nRevenue $%.2f\\nTotal $%.2f' % (cost, revenue, cost-revenue))\n",
    "    ax[0].set_ylim([0,250])\n",
    "    new_data[date].total_use.plot(ax=ax[1], alpha=0.5)\n",
    "    new_data[date].load.clip(lower=0).plot.area(ax=ax[1])\n",
    "    new_data[date].grid_export.plot.area(ax=ax[1], alpha=0.7)\n",
    "    cost = tariff.get_cost(new_data[date][['grid_import', 'load']]/1000).sum() / 100\n",
    "    revenue = ((new_data[date].grid_export / 1000) * tariff.get_fit()).sum() / 100\n",
    "    ax[1].set_title('Cost $%.2f\\nRevenue $%.2f\\nTotal $%.2f' % (cost, revenue, cost-revenue))\n",
    "    ax[1].set_ylim([0,250])\n",
    "    plt.show()"
   ],
   "metadata": {
    "collapsed": false,
    "pycharm": {
     "name": "#%%\n"
    }
   }
  },
  {
   "cell_type": "code",
   "execution_count": null,
   "outputs": [],
   "source": [
    "print('Without Controlling Load')\n",
    "house_consumption_total = data[date_range].total_use.sum() / 1000\n",
    "pv_gen_total = data[date_range].PV.sum() / 1000\n",
    "grid_import_total = data[date_range].grid_import.sum() / 1000\n",
    "# grid_import_cost_total = data['2019-01'].grid\n",
    "grid_export_total = data[date_range].grid_export.sum() / 1000\n",
    "cost = tariff.get_cost(data[date_range][['grid_import', 'load']] / 1000)\n",
    "revenue = data[date_range].grid_export / 1000 * tariff.get_fit()\n",
    "cost_total = cost.sum() / 100\n",
    "revenue_total = revenue.sum() / 100\n",
    "# pv_utilisation_total = new_data['2019-01'].pv_utilisation.sum() /1000\n",
    "\n",
    "# export = pv_net - pv_utilisation\n",
    "# export_total = export.sum() / 1000\n",
    "\n",
    "print(\"House Usage Total\\t\\t\" + \"{:.2f}\".format(house_consumption_total) + \"kWh\")\n",
    "print(\"Import total\\t\\t\\t\" + \"{:.2f}\".format(grid_import_total) + \"kWh\")\n",
    "print(\"Export total\\t\\t\\t\" + \"{:.2f}\".format(grid_export_total) + \"kWh\")\n",
    "print(\"Import Cost\\t\\t\\t\" + \"${:.2f}\".format(cost_total))\n",
    "print(\"Export Revenue Cost\\t\\t\" + \"${:.2f}\".format(revenue_total))\n",
    "print(\"Net\\t\\t\\t\\t\" + \"${:.2f}\".format(cost_total - revenue_total))\n",
    "print()\n",
    "print(\"PV total\\t\\t\\t\" + \"{:.2f}\".format(pv_gen_total) + \"kWh\")\n",
    "# print(\"PV self consumed total\\t\\t\" + \"{:.2f}\".format(pv_utilisation_total) + \"kWh\")\n",
    "# print(\"PV exported\\t\\t\\t\" + \"{:.2f}\".format(export_total) + \"kWh\")\n",
    "# print(\"PV utilisation\\t\\t\\t\" + \"{:.2f}\".format((pv_utilisation_total / pv_gen_total) * 100) + \"%\")\n"
   ],
   "metadata": {
    "collapsed": false,
    "pycharm": {
     "name": "#%%\n"
    }
   }
  },
  {
   "cell_type": "code",
   "execution_count": null,
   "outputs": [],
   "source": [
    "print('With Controlling Load')\n",
    "house_consumption_total = new_data[date_range].total_use.sum() / 1000\n",
    "pv_gen_total = new_data[date_range].PV.sum() / 1000\n",
    "grid_import_total = new_data[date_range].grid_import.sum() / 1000\n",
    "grid_export_total = new_data[date_range].grid_export.sum() / 1000\n",
    "cost = tariff.get_cost(new_data[date_range][['grid_import', 'load']] / 1000)\n",
    "revenue = new_data[date_range].grid_export / 1000 * tariff.get_fit()\n",
    "cost_total = cost.sum() / 100\n",
    "revenue_total = revenue.sum() / 100\n",
    "# pv_utilisation_total = new_data['2019-01'].pv_utilisation.sum() /1000\n",
    "\n",
    "# export = pv_net - pv_utilisation\n",
    "# export_total = export.sum() / 1000\n",
    "\n",
    "print(\"House Usage Total\\t\\t\" + \"{:.2f}\".format(house_consumption_total) + \"kWh\")\n",
    "print(\"Import total\\t\\t\\t\" + \"{:.2f}\".format(grid_import_total) + \"kWh\")\n",
    "print(\"Export total\\t\\t\\t\" + \"{:.2f}\".format(grid_export_total) + \"kWh\")\n",
    "print(\"Import Cost\\t\\t\\t\" + \"${:.2f}\".format(cost_total))\n",
    "print(\"Export Revenue Cost\\t\\t\" + \"${:.2f}\".format(revenue_total))\n",
    "print(\"Net\\t\\t\\t\\t\" + \"${:.2f}\".format(cost_total - revenue_total))\n",
    "print()\n",
    "print(\"PV total\\t\\t\\t\" + \"{:.2f}\".format(pv_gen_total) + \"kWh\")\n",
    "# print(\"PV self consumed total\\t\\t\" + \"{:.2f}\".format(pv_utilisation_total) + \"kWh\")\n",
    "# print(\"PV exported\\t\\t\\t\" + \"{:.2f}\".format(export_total) + \"kWh\")\n",
    "# print(\"PV utilisation\\t\\t\\t\" + \"{:.2f}\".format((pv_utilisation_total / pv_gen_total) * 100) + \"%\")"
   ],
   "metadata": {
    "collapsed": false,
    "pycharm": {
     "name": "#%%\n"
    }
   }
  }
 ],
 "metadata": {
  "kernelspec": {
   "name": "pycharm-16601492",
   "language": "python",
   "display_name": "PyCharm (Thesis1)"
  },
  "language_info": {
   "codemirror_mode": {
    "name": "ipython",
    "version": 2
   },
   "file_extension": ".py",
   "mimetype": "text/x-python",
   "name": "python",
   "nbconvert_exporter": "python",
   "pygments_lexer": "ipython2",
   "version": "2.7.6"
  }
 },
 "nbformat": 4,
 "nbformat_minor": 0
}