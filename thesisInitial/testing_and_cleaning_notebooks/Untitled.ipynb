{
 "cells": [
  {
   "cell_type": "markdown",
   "source": [
    "## Select a house\n",
    "| HouseID   |   Load        |\n",
    "|---------  |   ------      |\n",
    "|64613      |   hot_water   |\n",
    "|70210      |   pool        |\n",
    "|70243      |   hot_water   |\n",
    "|70277      |   hot_water   |\n",
    "|91912      |   pool        |\n",
    "|91910      |   hot_water   |"
   ],
   "metadata": {
    "collapsed": false,
    "pycharm": {
     "name": "#%% md\n"
    }
   }
  },
  {
   "cell_type": "code",
   "execution_count": 1,
   "outputs": [
    {
     "name": "stdout",
     "output_type": "stream",
     "text": [
      "0 64613.csv\n",
      "1 69914.csv\n",
      "2 70177.csv\n",
      "3 70210.csv\n",
      "4 70243.csv\n",
      "5 70277.csv\n",
      "6 91341.csv\n",
      "7 91910.csv\n",
      "8 91911.csv\n",
      "9 91912.csv\n",
      "10 97245.csv\n"
     ]
    }
   ],
   "source": [
    "import pandas as pd\n",
    "import numpy as np\n",
    "from os import path\n",
    "from os import getcwd, listdir\n",
    "current_path = path.split(getcwd())[0]\n",
    "path_to_data = path.join(current_path, '..', 'data', 'houses')\n",
    "houses = listdir(path_to_data)\n",
    "for i, house in enumerate(houses):\n",
    "    print (i, house)"
   ],
   "metadata": {
    "collapsed": false,
    "pycharm": {
     "name": "#%%\n"
    }
   }
  },
  {
   "cell_type": "code",
   "execution_count": 9,
   "outputs": [
    {
     "data": {
      "text/plain": "         site_id     reading_datetime  circuit_id              monitors  \\\n0          64613  2019-01-01 00:15:00       70133           ac_load_net   \n1          64613  2019-01-01 00:15:00       58075  load_air_conditioner   \n2          64613  2019-01-01 00:15:00       58077  load_air_conditioner   \n3          64613  2019-01-01 00:15:00       70132        load_hot_water   \n4          64613  2019-01-01 00:15:00       58076         load_lighting   \n...          ...                  ...         ...                   ...   \n1269836    64613  2019-12-31 23:55:00       70173       load_powerpoint   \n1269837    64613  2019-12-31 23:55:00       70174       load_powerpoint   \n1269838    64613  2019-12-31 23:55:00       58084              load_spa   \n1269839    64613  2019-12-31 23:55:00       58085            load_stove   \n1269840    64613  2019-12-31 23:55:00       70131           pv_site_net   \n\n          energy  energy_pos  energy_neg Location  load_type  \n0        68.1369     68.1369      0.0000   Sydney  hot_water  \n1         0.5789      0.5789      0.0000   Sydney  hot_water  \n2         0.0472      0.0472      0.0000   Sydney  hot_water  \n3         0.0194      0.0194      0.0000   Sydney  hot_water  \n4         8.4467      8.4467      0.0000   Sydney  hot_water  \n...          ...         ...         ...      ...        ...  \n1269836   0.4544      0.4544      0.0000   Sydney  hot_water  \n1269837   0.2033      0.2033      0.0000   Sydney  hot_water  \n1269838   0.0072      0.0072      0.0000   Sydney  hot_water  \n1269839   0.1542      0.1542      0.0000   Sydney  hot_water  \n1269840  -0.0578      0.0000      0.0578   Sydney  hot_water  \n\n[1269841 rows x 9 columns]",
      "text/html": "<div>\n<style scoped>\n    .dataframe tbody tr th:only-of-type {\n        vertical-align: middle;\n    }\n\n    .dataframe tbody tr th {\n        vertical-align: top;\n    }\n\n    .dataframe thead th {\n        text-align: right;\n    }\n</style>\n<table border=\"1\" class=\"dataframe\">\n  <thead>\n    <tr style=\"text-align: right;\">\n      <th></th>\n      <th>site_id</th>\n      <th>reading_datetime</th>\n      <th>circuit_id</th>\n      <th>monitors</th>\n      <th>energy</th>\n      <th>energy_pos</th>\n      <th>energy_neg</th>\n      <th>Location</th>\n      <th>load_type</th>\n    </tr>\n  </thead>\n  <tbody>\n    <tr>\n      <th>0</th>\n      <td>64613</td>\n      <td>2019-01-01 00:15:00</td>\n      <td>70133</td>\n      <td>ac_load_net</td>\n      <td>68.1369</td>\n      <td>68.1369</td>\n      <td>0.0000</td>\n      <td>Sydney</td>\n      <td>hot_water</td>\n    </tr>\n    <tr>\n      <th>1</th>\n      <td>64613</td>\n      <td>2019-01-01 00:15:00</td>\n      <td>58075</td>\n      <td>load_air_conditioner</td>\n      <td>0.5789</td>\n      <td>0.5789</td>\n      <td>0.0000</td>\n      <td>Sydney</td>\n      <td>hot_water</td>\n    </tr>\n    <tr>\n      <th>2</th>\n      <td>64613</td>\n      <td>2019-01-01 00:15:00</td>\n      <td>58077</td>\n      <td>load_air_conditioner</td>\n      <td>0.0472</td>\n      <td>0.0472</td>\n      <td>0.0000</td>\n      <td>Sydney</td>\n      <td>hot_water</td>\n    </tr>\n    <tr>\n      <th>3</th>\n      <td>64613</td>\n      <td>2019-01-01 00:15:00</td>\n      <td>70132</td>\n      <td>load_hot_water</td>\n      <td>0.0194</td>\n      <td>0.0194</td>\n      <td>0.0000</td>\n      <td>Sydney</td>\n      <td>hot_water</td>\n    </tr>\n    <tr>\n      <th>4</th>\n      <td>64613</td>\n      <td>2019-01-01 00:15:00</td>\n      <td>58076</td>\n      <td>load_lighting</td>\n      <td>8.4467</td>\n      <td>8.4467</td>\n      <td>0.0000</td>\n      <td>Sydney</td>\n      <td>hot_water</td>\n    </tr>\n    <tr>\n      <th>...</th>\n      <td>...</td>\n      <td>...</td>\n      <td>...</td>\n      <td>...</td>\n      <td>...</td>\n      <td>...</td>\n      <td>...</td>\n      <td>...</td>\n      <td>...</td>\n    </tr>\n    <tr>\n      <th>1269836</th>\n      <td>64613</td>\n      <td>2019-12-31 23:55:00</td>\n      <td>70173</td>\n      <td>load_powerpoint</td>\n      <td>0.4544</td>\n      <td>0.4544</td>\n      <td>0.0000</td>\n      <td>Sydney</td>\n      <td>hot_water</td>\n    </tr>\n    <tr>\n      <th>1269837</th>\n      <td>64613</td>\n      <td>2019-12-31 23:55:00</td>\n      <td>70174</td>\n      <td>load_powerpoint</td>\n      <td>0.2033</td>\n      <td>0.2033</td>\n      <td>0.0000</td>\n      <td>Sydney</td>\n      <td>hot_water</td>\n    </tr>\n    <tr>\n      <th>1269838</th>\n      <td>64613</td>\n      <td>2019-12-31 23:55:00</td>\n      <td>58084</td>\n      <td>load_spa</td>\n      <td>0.0072</td>\n      <td>0.0072</td>\n      <td>0.0000</td>\n      <td>Sydney</td>\n      <td>hot_water</td>\n    </tr>\n    <tr>\n      <th>1269839</th>\n      <td>64613</td>\n      <td>2019-12-31 23:55:00</td>\n      <td>58085</td>\n      <td>load_stove</td>\n      <td>0.1542</td>\n      <td>0.1542</td>\n      <td>0.0000</td>\n      <td>Sydney</td>\n      <td>hot_water</td>\n    </tr>\n    <tr>\n      <th>1269840</th>\n      <td>64613</td>\n      <td>2019-12-31 23:55:00</td>\n      <td>70131</td>\n      <td>pv_site_net</td>\n      <td>-0.0578</td>\n      <td>0.0000</td>\n      <td>0.0578</td>\n      <td>Sydney</td>\n      <td>hot_water</td>\n    </tr>\n  </tbody>\n</table>\n<p>1269841 rows × 9 columns</p>\n</div>"
     },
     "execution_count": 9,
     "metadata": {},
     "output_type": "execute_result"
    }
   ],
   "source": [
    "df = pd.read_csv(path.join(path_to_data, houses[0]))\n",
    "df['Location'] = 'Sydney'\n",
    "df['load_type'] = 'hot_water'\n",
    "df.to_csv(path.join(path_to_data, houses[0]), index=False)\n",
    "df = pd.read_csv(path.join(path_to_data, houses[0]))\n",
    "df"
   ],
   "metadata": {
    "collapsed": false,
    "pycharm": {
     "name": "#%%\n"
    }
   }
  },
  {
   "cell_type": "code",
   "execution_count": 8,
   "outputs": [
    {
     "data": {
      "text/plain": "        site_id     reading_datetime  circuit_id              monitors  \\\n0         69914  2019-01-01 00:15:00       58078           ac_load_net   \n1         69914  2019-01-01 00:15:00       58080  load_air_conditioner   \n2         69914  2019-01-01 00:15:00       72317            load_other   \n3         69914  2019-01-01 00:15:00       72319     load_refrigerator   \n4         69914  2019-01-01 00:15:00       72318            load_stove   \n...         ...                  ...         ...                   ...   \n633829    69914  2019-12-31 23:55:00       58080  load_air_conditioner   \n633830    69914  2019-12-31 23:55:00       72317            load_other   \n633831    69914  2019-12-31 23:55:00       72319     load_refrigerator   \n633832    69914  2019-12-31 23:55:00       72318            load_stove   \n633833    69914  2019-12-31 23:55:00       58079           pv_site_net   \n\n         energy  energy_pos  energy_neg  Location  load_type  \n0       16.8622     16.8622      0.0000  Adelaide        NaN  \n1        0.3006      0.3006      0.0000  Adelaide        NaN  \n2        0.1867      0.1867      0.0000  Adelaide        NaN  \n3        9.7156      9.7156      0.0000  Adelaide        NaN  \n4        0.0444      0.0444      0.0000  Adelaide        NaN  \n...         ...         ...         ...       ...        ...  \n633829   0.2883      0.2883      0.0000  Adelaide        NaN  \n633830   0.1153      0.1153      0.0000  Adelaide        NaN  \n633831   9.5939      9.5939      0.0000  Adelaide        NaN  \n633832   0.0419      0.0419      0.0000  Adelaide        NaN  \n633833  -0.1039      0.0000      0.1039  Adelaide        NaN  \n\n[633834 rows x 9 columns]",
      "text/html": "<div>\n<style scoped>\n    .dataframe tbody tr th:only-of-type {\n        vertical-align: middle;\n    }\n\n    .dataframe tbody tr th {\n        vertical-align: top;\n    }\n\n    .dataframe thead th {\n        text-align: right;\n    }\n</style>\n<table border=\"1\" class=\"dataframe\">\n  <thead>\n    <tr style=\"text-align: right;\">\n      <th></th>\n      <th>site_id</th>\n      <th>reading_datetime</th>\n      <th>circuit_id</th>\n      <th>monitors</th>\n      <th>energy</th>\n      <th>energy_pos</th>\n      <th>energy_neg</th>\n      <th>Location</th>\n      <th>load_type</th>\n    </tr>\n  </thead>\n  <tbody>\n    <tr>\n      <th>0</th>\n      <td>69914</td>\n      <td>2019-01-01 00:15:00</td>\n      <td>58078</td>\n      <td>ac_load_net</td>\n      <td>16.8622</td>\n      <td>16.8622</td>\n      <td>0.0000</td>\n      <td>Adelaide</td>\n      <td>NaN</td>\n    </tr>\n    <tr>\n      <th>1</th>\n      <td>69914</td>\n      <td>2019-01-01 00:15:00</td>\n      <td>58080</td>\n      <td>load_air_conditioner</td>\n      <td>0.3006</td>\n      <td>0.3006</td>\n      <td>0.0000</td>\n      <td>Adelaide</td>\n      <td>NaN</td>\n    </tr>\n    <tr>\n      <th>2</th>\n      <td>69914</td>\n      <td>2019-01-01 00:15:00</td>\n      <td>72317</td>\n      <td>load_other</td>\n      <td>0.1867</td>\n      <td>0.1867</td>\n      <td>0.0000</td>\n      <td>Adelaide</td>\n      <td>NaN</td>\n    </tr>\n    <tr>\n      <th>3</th>\n      <td>69914</td>\n      <td>2019-01-01 00:15:00</td>\n      <td>72319</td>\n      <td>load_refrigerator</td>\n      <td>9.7156</td>\n      <td>9.7156</td>\n      <td>0.0000</td>\n      <td>Adelaide</td>\n      <td>NaN</td>\n    </tr>\n    <tr>\n      <th>4</th>\n      <td>69914</td>\n      <td>2019-01-01 00:15:00</td>\n      <td>72318</td>\n      <td>load_stove</td>\n      <td>0.0444</td>\n      <td>0.0444</td>\n      <td>0.0000</td>\n      <td>Adelaide</td>\n      <td>NaN</td>\n    </tr>\n    <tr>\n      <th>...</th>\n      <td>...</td>\n      <td>...</td>\n      <td>...</td>\n      <td>...</td>\n      <td>...</td>\n      <td>...</td>\n      <td>...</td>\n      <td>...</td>\n      <td>...</td>\n    </tr>\n    <tr>\n      <th>633829</th>\n      <td>69914</td>\n      <td>2019-12-31 23:55:00</td>\n      <td>58080</td>\n      <td>load_air_conditioner</td>\n      <td>0.2883</td>\n      <td>0.2883</td>\n      <td>0.0000</td>\n      <td>Adelaide</td>\n      <td>NaN</td>\n    </tr>\n    <tr>\n      <th>633830</th>\n      <td>69914</td>\n      <td>2019-12-31 23:55:00</td>\n      <td>72317</td>\n      <td>load_other</td>\n      <td>0.1153</td>\n      <td>0.1153</td>\n      <td>0.0000</td>\n      <td>Adelaide</td>\n      <td>NaN</td>\n    </tr>\n    <tr>\n      <th>633831</th>\n      <td>69914</td>\n      <td>2019-12-31 23:55:00</td>\n      <td>72319</td>\n      <td>load_refrigerator</td>\n      <td>9.5939</td>\n      <td>9.5939</td>\n      <td>0.0000</td>\n      <td>Adelaide</td>\n      <td>NaN</td>\n    </tr>\n    <tr>\n      <th>633832</th>\n      <td>69914</td>\n      <td>2019-12-31 23:55:00</td>\n      <td>72318</td>\n      <td>load_stove</td>\n      <td>0.0419</td>\n      <td>0.0419</td>\n      <td>0.0000</td>\n      <td>Adelaide</td>\n      <td>NaN</td>\n    </tr>\n    <tr>\n      <th>633833</th>\n      <td>69914</td>\n      <td>2019-12-31 23:55:00</td>\n      <td>58079</td>\n      <td>pv_site_net</td>\n      <td>-0.1039</td>\n      <td>0.0000</td>\n      <td>0.1039</td>\n      <td>Adelaide</td>\n      <td>NaN</td>\n    </tr>\n  </tbody>\n</table>\n<p>633834 rows × 9 columns</p>\n</div>"
     },
     "execution_count": 8,
     "metadata": {},
     "output_type": "execute_result"
    }
   ],
   "source": [
    "index = 1\n",
    "df = pd.read_csv(path.join(path_to_data, houses[index]))\n",
    "df.drop(columns=['Unnamed: 0', 'Unnamed: 0.1'], inplace=True)\n",
    "df.to_csv(path.join(path_to_data, houses[index]), index=False)"
   ],
   "metadata": {
    "collapsed": false,
    "pycharm": {
     "name": "#%%\n"
    }
   }
  },
  {
   "cell_type": "code",
   "execution_count": 12,
   "outputs": [],
   "source": [
    "index = 2\n",
    "df = pd.read_csv(path.join(path_to_data, houses[index]))\n",
    "df.drop(columns=['Unnamed: 0'], inplace=True)\n",
    "df.to_csv(path.join(path_to_data, houses[index]), index=False)\n",
    "\n",
    "\n",
    "index = 3\n",
    "df = pd.read_csv(path.join(path_to_data, houses[index]))\n",
    "df.drop(columns=['Unnamed: 0'], inplace=True)\n",
    "df.to_csv(path.join(path_to_data, houses[index]), index=False)\n",
    "\n",
    "index = 4\n",
    "df = pd.read_csv(path.join(path_to_data, houses[index]))\n",
    "df.drop(columns=['Unnamed: 0'], inplace=True)\n",
    "df.to_csv(path.join(path_to_data, houses[index]), index=False)\n",
    "\n",
    "index = 5\n",
    "df = pd.read_csv(path.join(path_to_data, houses[index]))\n",
    "df.drop(columns=['Unnamed: 0'], inplace=True)\n",
    "df.to_csv(path.join(path_to_data, houses[index]), index=False)\n",
    "\n",
    "index = 6\n",
    "df = pd.read_csv(path.join(path_to_data, houses[index]))\n",
    "df.drop(columns=['Unnamed: 0'], inplace=True)\n",
    "df.to_csv(path.join(path_to_data, houses[index]), index=False)\n",
    "\n",
    "index = 7\n",
    "df = pd.read_csv(path.join(path_to_data, houses[index]))\n",
    "df.drop(columns=['Unnamed: 0'], inplace=True)\n",
    "df.to_csv(path.join(path_to_data, houses[index]), index=False)"
   ],
   "metadata": {
    "collapsed": false,
    "pycharm": {
     "name": "#%%\n"
    }
   }
  },
  {
   "cell_type": "code",
   "execution_count": 13,
   "outputs": [],
   "source": [
    "index = 8\n",
    "df = pd.read_csv(path.join(path_to_data, houses[index]))\n",
    "df.drop(columns=['Unnamed: 0.1.1'], inplace=True)\n",
    "df.to_csv(path.join(path_to_data, houses[index]), index=False)"
   ],
   "metadata": {
    "collapsed": false,
    "pycharm": {
     "name": "#%%\n"
    }
   }
  },
  {
   "cell_type": "code",
   "execution_count": null,
   "outputs": [],
   "source": [
    "index = 9\n",
    "df = pd.read_csv(path.join(path_to_data, houses[index]))\n",
    "df.drop(columns=['Unnamed: 0.1.1'], inplace=True)\n",
    "df.to_csv(path.join(path_to_data, houses[index]), index=False)\n",
    "\n",
    "index = 10\n",
    "df = pd.read_csv(path.join(path_to_data, houses[index]))\n",
    "df.drop(columns=['Unnamed: 0'], inplace=True)\n",
    "df.to_csv(path.join(path_to_data, houses[index]), index=False)"
   ],
   "metadata": {
    "collapsed": false,
    "pycharm": {
     "name": "#%%\n"
    }
   }
  },
  {
   "cell_type": "code",
   "execution_count": 16,
   "outputs": [
    {
     "name": "stdout",
     "output_type": "stream",
     "text": [
      "True\n"
     ]
    }
   ],
   "source": [
    "string = 'hello world'\n",
    "print(type(string) == str)"
   ],
   "metadata": {
    "collapsed": false,
    "pycharm": {
     "name": "#%%\n"
    }
   }
  }
 ],
 "metadata": {
  "kernelspec": {
   "name": "pycharm-16601492",
   "language": "python",
   "display_name": "PyCharm (Thesis1)"
  }
 },
 "nbformat": 4,
 "nbformat_minor": 4
}