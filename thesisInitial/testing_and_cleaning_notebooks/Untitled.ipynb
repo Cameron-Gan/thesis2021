{
 "cells": [
  {
   "cell_type": "markdown",
   "source": [
    "## Select a house\n",
    "| HouseID   |   Load        |\n",
    "|---------  |   ------      |\n",
    "|64613      |   hot_water   |\n",
    "|70210      |   pool        |\n",
    "|70243      |   hot_water   |\n",
    "|70277      |   hot_water   |\n",
    "|91912      |   pool        |\n",
    "|91910      |   hot_water   |"
   ],
   "metadata": {
    "collapsed": false,
    "pycharm": {
     "name": "#%% md\n"
    }
   }
  },
  {
   "cell_type": "code",
   "execution_count": 13,
   "outputs": [
    {
     "name": "stderr",
     "output_type": "stream",
     "text": [
      "C:\\ProgramData\\Anaconda3\\envs\\thesis\\lib\\site-packages\\IPython\\core\\interactiveshell.py:3165: DtypeWarning: Columns (7,8) have mixed types.Specify dtype option on import or set low_memory=False.\n",
      "  has_raised = await self.run_ast_nodes(code_ast.body, cell_name,\n"
     ]
    }
   ],
   "source": [
    "import pandas as pd\n",
    "import numpy as np\n",
    "from os import path\n",
    "from os import getcwd, listdir\n",
    "import pyarrow.feather as feather\n",
    "\n",
    "current_path = path.split(getcwd())[0]\n",
    "path_to_data = path.join(current_path, '..', 'data')\n",
    "houses = [f for f in listdir(path.join(path_to_data, 'houses')) if f.endswith('.csv')]\n",
    "for i, house in enumerate(houses):\n",
    "    feather_filename = house.split('.')[0] + '_feather'\n",
    "    df = pd.read_csv(path.join(path_to_data, 'houses', house))\n",
    "    feather.write_feather(df, path.join(path_to_data, 'houses', feather_filename), compression='lz4')\n",
    "\n",
    "\n"
   ],
   "metadata": {
    "collapsed": false,
    "pycharm": {
     "name": "#%%\n"
    }
   }
  },
  {
   "cell_type": "code",
   "execution_count": 17,
   "outputs": [
    {
     "data": {
      "text/plain": "         site_id     reading_datetime  circuit_id              monitors  \\\n0          64613  2019-01-01 00:15:00       70133           ac_load_net   \n1          64613  2019-01-01 00:15:00       58075  load_air_conditioner   \n2          64613  2019-01-01 00:15:00       58077  load_air_conditioner   \n3          64613  2019-01-01 00:15:00       70132        load_hot_water   \n4          64613  2019-01-01 00:15:00       58076         load_lighting   \n...          ...                  ...         ...                   ...   \n1269836    64613  2019-12-31 23:55:00       70173       load_powerpoint   \n1269837    64613  2019-12-31 23:55:00       70174       load_powerpoint   \n1269838    64613  2019-12-31 23:55:00       58084              load_spa   \n1269839    64613  2019-12-31 23:55:00       58085            load_stove   \n1269840    64613  2019-12-31 23:55:00       70131           pv_site_net   \n\n          energy  energy_pos  energy_neg Location  load_type  \n0        68.1369     68.1369      0.0000   Sydney  hot_water  \n1         0.5789      0.5789      0.0000   Sydney  hot_water  \n2         0.0472      0.0472      0.0000   Sydney  hot_water  \n3         0.0194      0.0194      0.0000   Sydney  hot_water  \n4         8.4467      8.4467      0.0000   Sydney  hot_water  \n...          ...         ...         ...      ...        ...  \n1269836   0.4544      0.4544      0.0000   Sydney  hot_water  \n1269837   0.2033      0.2033      0.0000   Sydney  hot_water  \n1269838   0.0072      0.0072      0.0000   Sydney  hot_water  \n1269839   0.1542      0.1542      0.0000   Sydney  hot_water  \n1269840  -0.0578      0.0000      0.0578   Sydney  hot_water  \n\n[1269841 rows x 9 columns]",
      "text/html": "<div>\n<style scoped>\n    .dataframe tbody tr th:only-of-type {\n        vertical-align: middle;\n    }\n\n    .dataframe tbody tr th {\n        vertical-align: top;\n    }\n\n    .dataframe thead th {\n        text-align: right;\n    }\n</style>\n<table border=\"1\" class=\"dataframe\">\n  <thead>\n    <tr style=\"text-align: right;\">\n      <th></th>\n      <th>site_id</th>\n      <th>reading_datetime</th>\n      <th>circuit_id</th>\n      <th>monitors</th>\n      <th>energy</th>\n      <th>energy_pos</th>\n      <th>energy_neg</th>\n      <th>Location</th>\n      <th>load_type</th>\n    </tr>\n  </thead>\n  <tbody>\n    <tr>\n      <th>0</th>\n      <td>64613</td>\n      <td>2019-01-01 00:15:00</td>\n      <td>70133</td>\n      <td>ac_load_net</td>\n      <td>68.1369</td>\n      <td>68.1369</td>\n      <td>0.0000</td>\n      <td>Sydney</td>\n      <td>hot_water</td>\n    </tr>\n    <tr>\n      <th>1</th>\n      <td>64613</td>\n      <td>2019-01-01 00:15:00</td>\n      <td>58075</td>\n      <td>load_air_conditioner</td>\n      <td>0.5789</td>\n      <td>0.5789</td>\n      <td>0.0000</td>\n      <td>Sydney</td>\n      <td>hot_water</td>\n    </tr>\n    <tr>\n      <th>2</th>\n      <td>64613</td>\n      <td>2019-01-01 00:15:00</td>\n      <td>58077</td>\n      <td>load_air_conditioner</td>\n      <td>0.0472</td>\n      <td>0.0472</td>\n      <td>0.0000</td>\n      <td>Sydney</td>\n      <td>hot_water</td>\n    </tr>\n    <tr>\n      <th>3</th>\n      <td>64613</td>\n      <td>2019-01-01 00:15:00</td>\n      <td>70132</td>\n      <td>load_hot_water</td>\n      <td>0.0194</td>\n      <td>0.0194</td>\n      <td>0.0000</td>\n      <td>Sydney</td>\n      <td>hot_water</td>\n    </tr>\n    <tr>\n      <th>4</th>\n      <td>64613</td>\n      <td>2019-01-01 00:15:00</td>\n      <td>58076</td>\n      <td>load_lighting</td>\n      <td>8.4467</td>\n      <td>8.4467</td>\n      <td>0.0000</td>\n      <td>Sydney</td>\n      <td>hot_water</td>\n    </tr>\n    <tr>\n      <th>...</th>\n      <td>...</td>\n      <td>...</td>\n      <td>...</td>\n      <td>...</td>\n      <td>...</td>\n      <td>...</td>\n      <td>...</td>\n      <td>...</td>\n      <td>...</td>\n    </tr>\n    <tr>\n      <th>1269836</th>\n      <td>64613</td>\n      <td>2019-12-31 23:55:00</td>\n      <td>70173</td>\n      <td>load_powerpoint</td>\n      <td>0.4544</td>\n      <td>0.4544</td>\n      <td>0.0000</td>\n      <td>Sydney</td>\n      <td>hot_water</td>\n    </tr>\n    <tr>\n      <th>1269837</th>\n      <td>64613</td>\n      <td>2019-12-31 23:55:00</td>\n      <td>70174</td>\n      <td>load_powerpoint</td>\n      <td>0.2033</td>\n      <td>0.2033</td>\n      <td>0.0000</td>\n      <td>Sydney</td>\n      <td>hot_water</td>\n    </tr>\n    <tr>\n      <th>1269838</th>\n      <td>64613</td>\n      <td>2019-12-31 23:55:00</td>\n      <td>58084</td>\n      <td>load_spa</td>\n      <td>0.0072</td>\n      <td>0.0072</td>\n      <td>0.0000</td>\n      <td>Sydney</td>\n      <td>hot_water</td>\n    </tr>\n    <tr>\n      <th>1269839</th>\n      <td>64613</td>\n      <td>2019-12-31 23:55:00</td>\n      <td>58085</td>\n      <td>load_stove</td>\n      <td>0.1542</td>\n      <td>0.1542</td>\n      <td>0.0000</td>\n      <td>Sydney</td>\n      <td>hot_water</td>\n    </tr>\n    <tr>\n      <th>1269840</th>\n      <td>64613</td>\n      <td>2019-12-31 23:55:00</td>\n      <td>70131</td>\n      <td>pv_site_net</td>\n      <td>-0.0578</td>\n      <td>0.0000</td>\n      <td>0.0578</td>\n      <td>Sydney</td>\n      <td>hot_water</td>\n    </tr>\n  </tbody>\n</table>\n<p>1269841 rows × 9 columns</p>\n</div>"
     },
     "execution_count": 17,
     "metadata": {},
     "output_type": "execute_result"
    }
   ],
   "source": [
    "index = 0\n",
    "df = pd.read_feather(path.join(path_to_data, 'houses', '64613_feather'))\n",
    "df"
   ],
   "metadata": {
    "collapsed": false,
    "pycharm": {
     "name": "#%%\n"
    }
   }
  },
  {
   "cell_type": "code",
   "execution_count": 21,
   "outputs": [
    {
     "ename": "FileNotFoundError",
     "evalue": "[Errno 2] No such file or directory: 'C:\\\\Users\\\\camer\\\\PycharmProjects\\\\Thesis\\\\thesisInitial\\\\..\\\\data\\\\original\\\\houses'",
     "output_type": "error",
     "traceback": [
      "\u001B[1;31m---------------------------------------------------------------------------\u001B[0m",
      "\u001B[1;31mFileNotFoundError\u001B[0m                         Traceback (most recent call last)",
      "\u001B[1;32m<ipython-input-21-660973061a60>\u001B[0m in \u001B[0;36m<module>\u001B[1;34m\u001B[0m\n\u001B[0;32m      1\u001B[0m \u001B[0mindex\u001B[0m \u001B[1;33m=\u001B[0m \u001B[1;36m1\u001B[0m\u001B[1;33m\u001B[0m\u001B[1;33m\u001B[0m\u001B[0m\n\u001B[1;32m----> 2\u001B[1;33m \u001B[0mdf\u001B[0m \u001B[1;33m=\u001B[0m \u001B[0mpd\u001B[0m\u001B[1;33m.\u001B[0m\u001B[0mread_csv\u001B[0m\u001B[1;33m(\u001B[0m\u001B[0mpath\u001B[0m\u001B[1;33m.\u001B[0m\u001B[0mjoin\u001B[0m\u001B[1;33m(\u001B[0m\u001B[0mpath_to_data\u001B[0m\u001B[1;33m,\u001B[0m \u001B[1;34m'original'\u001B[0m\u001B[1;33m,\u001B[0m \u001B[0mhouses\u001B[0m\u001B[1;33m[\u001B[0m\u001B[0mindex\u001B[0m\u001B[1;33m]\u001B[0m\u001B[1;33m)\u001B[0m\u001B[1;33m)\u001B[0m\u001B[1;33m\u001B[0m\u001B[1;33m\u001B[0m\u001B[0m\n\u001B[0m\u001B[0;32m      3\u001B[0m \u001B[0mdf\u001B[0m\u001B[1;33m.\u001B[0m\u001B[0mto_feather\u001B[0m\u001B[1;33m(\u001B[0m\u001B[0mpath\u001B[0m\u001B[1;33m.\u001B[0m\u001B[0mjoin\u001B[0m\u001B[1;33m(\u001B[0m\u001B[0mpath_to_data\u001B[0m\u001B[1;33m,\u001B[0m \u001B[1;34m'houses'\u001B[0m\u001B[1;33m,\u001B[0m \u001B[1;34m'64613_feather'\u001B[0m\u001B[1;33m)\u001B[0m\u001B[1;33m)\u001B[0m\u001B[1;33m\u001B[0m\u001B[1;33m\u001B[0m\u001B[0m\n\u001B[0;32m      4\u001B[0m \u001B[1;33m\u001B[0m\u001B[0m\n\u001B[0;32m      5\u001B[0m \u001B[1;33m\u001B[0m\u001B[0m\n",
      "\u001B[1;32mC:\\ProgramData\\Anaconda3\\envs\\Thesis1\\lib\\site-packages\\pandas\\io\\parsers.py\u001B[0m in \u001B[0;36mread_csv\u001B[1;34m(filepath_or_buffer, sep, delimiter, header, names, index_col, usecols, squeeze, prefix, mangle_dupe_cols, dtype, engine, converters, true_values, false_values, skipinitialspace, skiprows, skipfooter, nrows, na_values, keep_default_na, na_filter, verbose, skip_blank_lines, parse_dates, infer_datetime_format, keep_date_col, date_parser, dayfirst, cache_dates, iterator, chunksize, compression, thousands, decimal, lineterminator, quotechar, quoting, doublequote, escapechar, comment, encoding, dialect, error_bad_lines, warn_bad_lines, delim_whitespace, low_memory, memory_map, float_precision)\u001B[0m\n\u001B[0;32m    684\u001B[0m     )\n\u001B[0;32m    685\u001B[0m \u001B[1;33m\u001B[0m\u001B[0m\n\u001B[1;32m--> 686\u001B[1;33m     \u001B[1;32mreturn\u001B[0m \u001B[0m_read\u001B[0m\u001B[1;33m(\u001B[0m\u001B[0mfilepath_or_buffer\u001B[0m\u001B[1;33m,\u001B[0m \u001B[0mkwds\u001B[0m\u001B[1;33m)\u001B[0m\u001B[1;33m\u001B[0m\u001B[1;33m\u001B[0m\u001B[0m\n\u001B[0m\u001B[0;32m    687\u001B[0m \u001B[1;33m\u001B[0m\u001B[0m\n\u001B[0;32m    688\u001B[0m \u001B[1;33m\u001B[0m\u001B[0m\n",
      "\u001B[1;32mC:\\ProgramData\\Anaconda3\\envs\\Thesis1\\lib\\site-packages\\pandas\\io\\parsers.py\u001B[0m in \u001B[0;36m_read\u001B[1;34m(filepath_or_buffer, kwds)\u001B[0m\n\u001B[0;32m    450\u001B[0m \u001B[1;33m\u001B[0m\u001B[0m\n\u001B[0;32m    451\u001B[0m     \u001B[1;31m# Create the parser.\u001B[0m\u001B[1;33m\u001B[0m\u001B[1;33m\u001B[0m\u001B[1;33m\u001B[0m\u001B[0m\n\u001B[1;32m--> 452\u001B[1;33m     \u001B[0mparser\u001B[0m \u001B[1;33m=\u001B[0m \u001B[0mTextFileReader\u001B[0m\u001B[1;33m(\u001B[0m\u001B[0mfp_or_buf\u001B[0m\u001B[1;33m,\u001B[0m \u001B[1;33m**\u001B[0m\u001B[0mkwds\u001B[0m\u001B[1;33m)\u001B[0m\u001B[1;33m\u001B[0m\u001B[1;33m\u001B[0m\u001B[0m\n\u001B[0m\u001B[0;32m    453\u001B[0m \u001B[1;33m\u001B[0m\u001B[0m\n\u001B[0;32m    454\u001B[0m     \u001B[1;32mif\u001B[0m \u001B[0mchunksize\u001B[0m \u001B[1;32mor\u001B[0m \u001B[0miterator\u001B[0m\u001B[1;33m:\u001B[0m\u001B[1;33m\u001B[0m\u001B[1;33m\u001B[0m\u001B[0m\n",
      "\u001B[1;32mC:\\ProgramData\\Anaconda3\\envs\\Thesis1\\lib\\site-packages\\pandas\\io\\parsers.py\u001B[0m in \u001B[0;36m__init__\u001B[1;34m(self, f, engine, **kwds)\u001B[0m\n\u001B[0;32m    944\u001B[0m             \u001B[0mself\u001B[0m\u001B[1;33m.\u001B[0m\u001B[0moptions\u001B[0m\u001B[1;33m[\u001B[0m\u001B[1;34m\"has_index_names\"\u001B[0m\u001B[1;33m]\u001B[0m \u001B[1;33m=\u001B[0m \u001B[0mkwds\u001B[0m\u001B[1;33m[\u001B[0m\u001B[1;34m\"has_index_names\"\u001B[0m\u001B[1;33m]\u001B[0m\u001B[1;33m\u001B[0m\u001B[1;33m\u001B[0m\u001B[0m\n\u001B[0;32m    945\u001B[0m \u001B[1;33m\u001B[0m\u001B[0m\n\u001B[1;32m--> 946\u001B[1;33m         \u001B[0mself\u001B[0m\u001B[1;33m.\u001B[0m\u001B[0m_make_engine\u001B[0m\u001B[1;33m(\u001B[0m\u001B[0mself\u001B[0m\u001B[1;33m.\u001B[0m\u001B[0mengine\u001B[0m\u001B[1;33m)\u001B[0m\u001B[1;33m\u001B[0m\u001B[1;33m\u001B[0m\u001B[0m\n\u001B[0m\u001B[0;32m    947\u001B[0m \u001B[1;33m\u001B[0m\u001B[0m\n\u001B[0;32m    948\u001B[0m     \u001B[1;32mdef\u001B[0m \u001B[0mclose\u001B[0m\u001B[1;33m(\u001B[0m\u001B[0mself\u001B[0m\u001B[1;33m)\u001B[0m\u001B[1;33m:\u001B[0m\u001B[1;33m\u001B[0m\u001B[1;33m\u001B[0m\u001B[0m\n",
      "\u001B[1;32mC:\\ProgramData\\Anaconda3\\envs\\Thesis1\\lib\\site-packages\\pandas\\io\\parsers.py\u001B[0m in \u001B[0;36m_make_engine\u001B[1;34m(self, engine)\u001B[0m\n\u001B[0;32m   1176\u001B[0m     \u001B[1;32mdef\u001B[0m \u001B[0m_make_engine\u001B[0m\u001B[1;33m(\u001B[0m\u001B[0mself\u001B[0m\u001B[1;33m,\u001B[0m \u001B[0mengine\u001B[0m\u001B[1;33m=\u001B[0m\u001B[1;34m\"c\"\u001B[0m\u001B[1;33m)\u001B[0m\u001B[1;33m:\u001B[0m\u001B[1;33m\u001B[0m\u001B[1;33m\u001B[0m\u001B[0m\n\u001B[0;32m   1177\u001B[0m         \u001B[1;32mif\u001B[0m \u001B[0mengine\u001B[0m \u001B[1;33m==\u001B[0m \u001B[1;34m\"c\"\u001B[0m\u001B[1;33m:\u001B[0m\u001B[1;33m\u001B[0m\u001B[1;33m\u001B[0m\u001B[0m\n\u001B[1;32m-> 1178\u001B[1;33m             \u001B[0mself\u001B[0m\u001B[1;33m.\u001B[0m\u001B[0m_engine\u001B[0m \u001B[1;33m=\u001B[0m \u001B[0mCParserWrapper\u001B[0m\u001B[1;33m(\u001B[0m\u001B[0mself\u001B[0m\u001B[1;33m.\u001B[0m\u001B[0mf\u001B[0m\u001B[1;33m,\u001B[0m \u001B[1;33m**\u001B[0m\u001B[0mself\u001B[0m\u001B[1;33m.\u001B[0m\u001B[0moptions\u001B[0m\u001B[1;33m)\u001B[0m\u001B[1;33m\u001B[0m\u001B[1;33m\u001B[0m\u001B[0m\n\u001B[0m\u001B[0;32m   1179\u001B[0m         \u001B[1;32melse\u001B[0m\u001B[1;33m:\u001B[0m\u001B[1;33m\u001B[0m\u001B[1;33m\u001B[0m\u001B[0m\n\u001B[0;32m   1180\u001B[0m             \u001B[1;32mif\u001B[0m \u001B[0mengine\u001B[0m \u001B[1;33m==\u001B[0m \u001B[1;34m\"python\"\u001B[0m\u001B[1;33m:\u001B[0m\u001B[1;33m\u001B[0m\u001B[1;33m\u001B[0m\u001B[0m\n",
      "\u001B[1;32mC:\\ProgramData\\Anaconda3\\envs\\Thesis1\\lib\\site-packages\\pandas\\io\\parsers.py\u001B[0m in \u001B[0;36m__init__\u001B[1;34m(self, src, **kwds)\u001B[0m\n\u001B[0;32m   2006\u001B[0m         \u001B[0mkwds\u001B[0m\u001B[1;33m[\u001B[0m\u001B[1;34m\"usecols\"\u001B[0m\u001B[1;33m]\u001B[0m \u001B[1;33m=\u001B[0m \u001B[0mself\u001B[0m\u001B[1;33m.\u001B[0m\u001B[0musecols\u001B[0m\u001B[1;33m\u001B[0m\u001B[1;33m\u001B[0m\u001B[0m\n\u001B[0;32m   2007\u001B[0m \u001B[1;33m\u001B[0m\u001B[0m\n\u001B[1;32m-> 2008\u001B[1;33m         \u001B[0mself\u001B[0m\u001B[1;33m.\u001B[0m\u001B[0m_reader\u001B[0m \u001B[1;33m=\u001B[0m \u001B[0mparsers\u001B[0m\u001B[1;33m.\u001B[0m\u001B[0mTextReader\u001B[0m\u001B[1;33m(\u001B[0m\u001B[0msrc\u001B[0m\u001B[1;33m,\u001B[0m \u001B[1;33m**\u001B[0m\u001B[0mkwds\u001B[0m\u001B[1;33m)\u001B[0m\u001B[1;33m\u001B[0m\u001B[1;33m\u001B[0m\u001B[0m\n\u001B[0m\u001B[0;32m   2009\u001B[0m         \u001B[0mself\u001B[0m\u001B[1;33m.\u001B[0m\u001B[0munnamed_cols\u001B[0m \u001B[1;33m=\u001B[0m \u001B[0mself\u001B[0m\u001B[1;33m.\u001B[0m\u001B[0m_reader\u001B[0m\u001B[1;33m.\u001B[0m\u001B[0munnamed_cols\u001B[0m\u001B[1;33m\u001B[0m\u001B[1;33m\u001B[0m\u001B[0m\n\u001B[0;32m   2010\u001B[0m \u001B[1;33m\u001B[0m\u001B[0m\n",
      "\u001B[1;32mpandas\\_libs\\parsers.pyx\u001B[0m in \u001B[0;36mpandas._libs.parsers.TextReader.__cinit__\u001B[1;34m()\u001B[0m\n",
      "\u001B[1;32mpandas\\_libs\\parsers.pyx\u001B[0m in \u001B[0;36mpandas._libs.parsers.TextReader._setup_parser_source\u001B[1;34m()\u001B[0m\n",
      "\u001B[1;31mFileNotFoundError\u001B[0m: [Errno 2] No such file or directory: 'C:\\\\Users\\\\camer\\\\PycharmProjects\\\\Thesis\\\\thesisInitial\\\\..\\\\data\\\\original\\\\houses'"
     ]
    }
   ],
   "source": [
    "index = 1\n",
    "df = pd.read_csv(path.join(path_to_data, 'original', houses[index]))\n"
   ],
   "metadata": {
    "collapsed": false,
    "pycharm": {
     "name": "#%%\n"
    }
   }
  },
  {
   "cell_type": "code",
   "execution_count": 12,
   "outputs": [],
   "source": [
    "index = 2\n",
    "df = pd.read_csv(path.join(path_to_data, houses[index]))\n",
    "df.drop(columns=['Unnamed: 0'], inplace=True)\n",
    "df.to_csv(path.join(path_to_data, houses[index]), index=False)\n",
    "\n",
    "\n",
    "index = 3\n",
    "df = pd.read_csv(path.join(path_to_data, houses[index]))\n",
    "df.drop(columns=['Unnamed: 0'], inplace=True)\n",
    "df.to_csv(path.join(path_to_data, houses[index]), index=False)\n",
    "\n",
    "index = 4\n",
    "df = pd.read_csv(path.join(path_to_data, houses[index]))\n",
    "df.drop(columns=['Unnamed: 0'], inplace=True)\n",
    "df.to_csv(path.join(path_to_data, houses[index]), index=False)\n",
    "\n",
    "index = 5\n",
    "df = pd.read_csv(path.join(path_to_data, houses[index]))\n",
    "df.drop(columns=['Unnamed: 0'], inplace=True)\n",
    "df.to_csv(path.join(path_to_data, houses[index]), index=False)\n",
    "\n",
    "index = 6\n",
    "df = pd.read_csv(path.join(path_to_data, houses[index]))\n",
    "df.drop(columns=['Unnamed: 0'], inplace=True)\n",
    "df.to_csv(path.join(path_to_data, houses[index]), index=False)\n",
    "\n",
    "index = 7\n",
    "df = pd.read_csv(path.join(path_to_data, houses[index]))\n",
    "df.drop(columns=['Unnamed: 0'], inplace=True)\n",
    "df.to_csv(path.join(path_to_data, houses[index]), index=False)"
   ],
   "metadata": {
    "collapsed": false,
    "pycharm": {
     "name": "#%%\n"
    }
   }
  },
  {
   "cell_type": "code",
   "execution_count": 13,
   "outputs": [],
   "source": [
    "index = 8\n",
    "df = pd.read_csv(path.join(path_to_data, houses[index]))\n",
    "df.drop(columns=['Unnamed: 0.1.1'], inplace=True)\n",
    "df.to_csv(path.join(path_to_data, houses[index]), index=False)"
   ],
   "metadata": {
    "collapsed": false,
    "pycharm": {
     "name": "#%%\n"
    }
   }
  },
  {
   "cell_type": "code",
   "execution_count": null,
   "outputs": [],
   "source": [
    "index = 9\n",
    "df = pd.read_csv(path.join(path_to_data, houses[index]))\n",
    "df.drop(columns=['Unnamed: 0.1.1'], inplace=True)\n",
    "df.to_csv(path.join(path_to_data, houses[index]), index=False)\n",
    "\n",
    "index = 10\n",
    "df = pd.read_csv(path.join(path_to_data, houses[index]))\n",
    "df.drop(columns=['Unnamed: 0'], inplace=True)\n",
    "df.to_csv(path.join(path_to_data, houses[index]), index=False)"
   ],
   "metadata": {
    "collapsed": false,
    "pycharm": {
     "name": "#%%\n"
    }
   }
  },
  {
   "cell_type": "code",
   "execution_count": 16,
   "outputs": [
    {
     "name": "stdout",
     "output_type": "stream",
     "text": [
      "True\n"
     ]
    }
   ],
   "source": [
    "string = 'hello world'\n",
    "print(type(string) == str)"
   ],
   "metadata": {
    "collapsed": false,
    "pycharm": {
     "name": "#%%\n"
    }
   }
  }
 ],
 "metadata": {
  "kernelspec": {
   "name": "pycharm-113b4f9a",
   "language": "python",
   "display_name": "PyCharm (Thesis)"
  }
 },
 "nbformat": 4,
 "nbformat_minor": 4
}