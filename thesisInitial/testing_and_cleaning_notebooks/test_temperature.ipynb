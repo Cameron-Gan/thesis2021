{
 "cells": [
  {
   "cell_type": "code",
   "execution_count": 6,
   "outputs": [
    {
     "name": "stderr",
     "output_type": "stream",
     "text": [
      "<ipython-input-6-980b4a39a64b>:8: FutureWarning: Indexing a DataFrame with a datetimelike index using a single string to slice the rows, like `frame[string]`, is deprecated and will be removed in a future version. Use `frame.loc[string]` instead.\n",
      "  df = temperature_df['2019']\n"
     ]
    },
    {
     "data": {
      "text/plain": "2019-01-01    False\n2019-01-02    False\n2019-01-03    False\n2019-01-04    False\n2019-01-05    False\n              ...  \n2019-12-27    False\n2019-12-28    False\n2019-12-29    False\n2019-12-30    False\n2019-12-31    False\nLength: 365, dtype: bool"
     },
     "execution_count": 6,
     "metadata": {},
     "output_type": "execute_result"
    }
   ],
   "source": [
    "from os import path\n",
    "from os import getcwd, listdir\n",
    "import pandas as pd\n",
    "import numpy as np\n",
    "path_to_data = path.join('..','..', 'data')\n",
    "\n",
    "temperature_df = pd.read_csv(path.join(path_to_data, 'weather', 'Adelaide'+'_Airport_Temp.csv'), index_col=0, parse_dates=True)\n",
    "df = temperature_df.loc['2019']\n",
    "df1 = df[df.isna().any(axis=1)]\n",
    "df.isna().any(axis=1)"
   ],
   "metadata": {
    "collapsed": false,
    "pycharm": {
     "name": "#%%\n"
    }
   }
  }
 ],
 "metadata": {
  "kernelspec": {
   "name": "pycharm-113b4f9a",
   "language": "python",
   "display_name": "PyCharm (Thesis)"
  },
  "language_info": {
   "codemirror_mode": {
    "name": "ipython",
    "version": 2
   },
   "file_extension": ".py",
   "mimetype": "text/x-python",
   "name": "python",
   "nbconvert_exporter": "python",
   "pygments_lexer": "ipython2",
   "version": "2.7.6"
  }
 },
 "nbformat": 4,
 "nbformat_minor": 0
}