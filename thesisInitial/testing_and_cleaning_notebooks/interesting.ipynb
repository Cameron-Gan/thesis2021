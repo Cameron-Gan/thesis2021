{
 "cells": [
  {
   "cell_type": "markdown",
   "source": [
    "# Interesting Houses\n",
    "<ol>\n",
    "    <li> 64613\n",
    "        <ul>\n",
    "            <li> Hot Water\n",
    "            <li> Spa\n",
    "        </ul>\n",
    "    <li> 70177\n",
    "            <ul>\n",
    "                <li> Spa\n",
    "            </ul>\n",
    "    <li> 70210 [Check]\n",
    "        <ul>\n",
    "            <li> Pool\n",
    "        </ul>\n",
    "    <li> 70243\n",
    "        <ul>\n",
    "            <li> Air Con\n",
    "        </ul>\n",
    "    <li> 70277 [Check]\n",
    "        <ul>\n",
    "            <li> Hot Water\n",
    "        </ul>\n",
    "    <li> 91910 [Check]\n",
    "        <ul>\n",
    "            <li> Hot Water\n",
    "        </ul>\n",
    "    <li> 91912 [Check]\n",
    "        <ul>\n",
    "            <li> Pool\n",
    "       </ul>"
   ],
   "metadata": {
    "collapsed": false,
    "pycharm": {
     "name": "#%% md\n"
    }
   }
  },
  {
   "cell_type": "markdown",
   "source": [
    "## 64613\n"
   ],
   "metadata": {
    "collapsed": false
   }
  }
 ],
 "metadata": {
  "kernelspec": {
   "display_name": "Python 3",
   "language": "python",
   "name": "python3"
  },
  "language_info": {
   "codemirror_mode": {
    "name": "ipython",
    "version": 2
   },
   "file_extension": ".py",
   "mimetype": "text/x-python",
   "name": "python",
   "nbconvert_exporter": "python",
   "pygments_lexer": "ipython2",
   "version": "2.7.6"
  }
 },
 "nbformat": 4,
 "nbformat_minor": 0
}