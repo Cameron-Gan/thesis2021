{
 "cells": [
  {
   "cell_type": "code",
   "execution_count": 3,
   "metadata": {
    "collapsed": true
   },
   "outputs": [],
   "source": [
    "\n",
    "import pandas as pd\n",
    "import matplotlib.pyplot as plt\n",
    "import seaborn as sns\n",
    "import os\n",
    "import numpy as np"
   ]
  },
  {
   "cell_type": "code",
   "execution_count": 5,
   "outputs": [
    {
     "data": {
      "text/plain": "         site_id    reading_datetime  circuit_id              monitors  \\\n0          64613 2019-01-01 00:00:00       70133           ac_load_net   \n11         64613 2019-01-01 00:00:00       58077  load_air_conditioner   \n10         64613 2019-01-01 00:00:00       70131           pv_site_net   \n9          64613 2019-01-01 00:00:00       58085            load_stove   \n7          64613 2019-01-01 00:00:00       58086       load_powerpoint   \n...          ...                 ...         ...                   ...   \n1269830    64613 2019-12-31 23:55:00       70174       load_powerpoint   \n1269829    64613 2019-12-31 23:55:00       58084              load_spa   \n1269839    64613 2019-12-31 23:55:00       58076         load_lighting   \n1269833    64613 2019-12-31 23:55:00       70175       load_powerpoint   \n1269840    64613 2019-12-31 23:55:00       70131           pv_site_net   \n\n          energy  energy_pos  energy_neg  \n0        70.0850     70.0850      0.0000  \n11        0.0481      0.0481      0.0000  \n10       -0.0733      0.0000      0.0733  \n9         0.1608      0.1608      0.0000  \n7        29.8778     29.8778      0.0000  \n...          ...         ...         ...  \n1269830   0.2033      0.2033      0.0000  \n1269829   0.0072      0.0072      0.0000  \n1269839   2.4675      2.4675      0.0000  \n1269833   6.6747      6.6747      0.0000  \n1269840  -0.0578      0.0000      0.0578  \n\n[1269841 rows x 7 columns]",
      "text/html": "<div>\n<style scoped>\n    .dataframe tbody tr th:only-of-type {\n        vertical-align: middle;\n    }\n\n    .dataframe tbody tr th {\n        vertical-align: top;\n    }\n\n    .dataframe thead th {\n        text-align: right;\n    }\n</style>\n<table border=\"1\" class=\"dataframe\">\n  <thead>\n    <tr style=\"text-align: right;\">\n      <th></th>\n      <th>site_id</th>\n      <th>reading_datetime</th>\n      <th>circuit_id</th>\n      <th>monitors</th>\n      <th>energy</th>\n      <th>energy_pos</th>\n      <th>energy_neg</th>\n    </tr>\n  </thead>\n  <tbody>\n    <tr>\n      <th>0</th>\n      <td>64613</td>\n      <td>2019-01-01 00:00:00</td>\n      <td>70133</td>\n      <td>ac_load_net</td>\n      <td>70.0850</td>\n      <td>70.0850</td>\n      <td>0.0000</td>\n    </tr>\n    <tr>\n      <th>11</th>\n      <td>64613</td>\n      <td>2019-01-01 00:00:00</td>\n      <td>58077</td>\n      <td>load_air_conditioner</td>\n      <td>0.0481</td>\n      <td>0.0481</td>\n      <td>0.0000</td>\n    </tr>\n    <tr>\n      <th>10</th>\n      <td>64613</td>\n      <td>2019-01-01 00:00:00</td>\n      <td>70131</td>\n      <td>pv_site_net</td>\n      <td>-0.0733</td>\n      <td>0.0000</td>\n      <td>0.0733</td>\n    </tr>\n    <tr>\n      <th>9</th>\n      <td>64613</td>\n      <td>2019-01-01 00:00:00</td>\n      <td>58085</td>\n      <td>load_stove</td>\n      <td>0.1608</td>\n      <td>0.1608</td>\n      <td>0.0000</td>\n    </tr>\n    <tr>\n      <th>7</th>\n      <td>64613</td>\n      <td>2019-01-01 00:00:00</td>\n      <td>58086</td>\n      <td>load_powerpoint</td>\n      <td>29.8778</td>\n      <td>29.8778</td>\n      <td>0.0000</td>\n    </tr>\n    <tr>\n      <th>...</th>\n      <td>...</td>\n      <td>...</td>\n      <td>...</td>\n      <td>...</td>\n      <td>...</td>\n      <td>...</td>\n      <td>...</td>\n    </tr>\n    <tr>\n      <th>1269830</th>\n      <td>64613</td>\n      <td>2019-12-31 23:55:00</td>\n      <td>70174</td>\n      <td>load_powerpoint</td>\n      <td>0.2033</td>\n      <td>0.2033</td>\n      <td>0.0000</td>\n    </tr>\n    <tr>\n      <th>1269829</th>\n      <td>64613</td>\n      <td>2019-12-31 23:55:00</td>\n      <td>58084</td>\n      <td>load_spa</td>\n      <td>0.0072</td>\n      <td>0.0072</td>\n      <td>0.0000</td>\n    </tr>\n    <tr>\n      <th>1269839</th>\n      <td>64613</td>\n      <td>2019-12-31 23:55:00</td>\n      <td>58076</td>\n      <td>load_lighting</td>\n      <td>2.4675</td>\n      <td>2.4675</td>\n      <td>0.0000</td>\n    </tr>\n    <tr>\n      <th>1269833</th>\n      <td>64613</td>\n      <td>2019-12-31 23:55:00</td>\n      <td>70175</td>\n      <td>load_powerpoint</td>\n      <td>6.6747</td>\n      <td>6.6747</td>\n      <td>0.0000</td>\n    </tr>\n    <tr>\n      <th>1269840</th>\n      <td>64613</td>\n      <td>2019-12-31 23:55:00</td>\n      <td>70131</td>\n      <td>pv_site_net</td>\n      <td>-0.0578</td>\n      <td>0.0000</td>\n      <td>0.0578</td>\n    </tr>\n  </tbody>\n</table>\n<p>1269841 rows × 7 columns</p>\n</div>"
     },
     "execution_count": 5,
     "metadata": {},
     "output_type": "execute_result"
    }
   ],
   "source": [
    "data = pd.read_csv('../data/house1.csv')\n",
    "data.drop('Unnamed: 0', axis=1, inplace=True)\n",
    "data['reading_datetime'] = pd.to_datetime(data.reading_datetime)\n",
    "data.sort_values('reading_datetime')"
   ],
   "metadata": {
    "collapsed": false,
    "pycharm": {
     "name": "#%%\n"
    }
   }
  },
  {
   "cell_type": "code",
   "execution_count": 6,
   "outputs": [
    {
     "name": "stdout",
     "output_type": "stream",
     "text": [
      "<class 'pandas.core.frame.DataFrame'>\n",
      "DatetimeIndex: 1269841 entries, 2019-01-01 00:00:00 to 2019-12-31 23:55:00\n",
      "Data columns (total 6 columns):\n",
      " #   Column      Non-Null Count    Dtype  \n",
      "---  ------      --------------    -----  \n",
      " 0   site_id     1269841 non-null  int64  \n",
      " 1   circuit_id  1269841 non-null  int64  \n",
      " 2   monitors    1269841 non-null  object \n",
      " 3   energy      1269841 non-null  float64\n",
      " 4   energy_pos  1269841 non-null  float64\n",
      " 5   energy_neg  1269841 non-null  float64\n",
      "dtypes: float64(3), int64(2), object(1)\n",
      "memory usage: 67.8+ MB\n"
     ]
    }
   ],
   "source": [
    "# net = df[df.monitors == 'ac_load_net']\n",
    "net = data\n",
    "net = net.set_index('reading_datetime')\n",
    "net.info()\n",
    "# net.info()"
   ],
   "metadata": {
    "collapsed": false,
    "pycharm": {
     "name": "#%%\n"
    }
   }
  },
  {
   "cell_type": "code",
   "execution_count": 27,
   "outputs": [],
   "source": [
    "# slice = net['2019-01-01']\n",
    "from datetime import datetime\n",
    "# for date in pd.date_range(pd.datetime(2019,1,1), pd.datetime(2019,2,1), freq='D'):\n",
    "#     # print(date.strftime('%D'))\n",
    "#     sns.lineplot(x='reading_datetime', y='energy', data=net[date].reset_index())\n",
    "# plt.show()"
   ],
   "metadata": {
    "collapsed": false,
    "pycharm": {
     "name": "#%%\n"
    }
   }
  },
  {
   "cell_type": "code",
   "execution_count": null,
   "outputs": [],
   "source": [
    "df = net['2019-01':'2019-02'].reset_index()\n",
    "df = pd.concat([df, net['2019-12'].reset_index()])\n",
    "df = df[df.monitors == 'ac_load_net']\n",
    "# df.info()\n",
    "df.groupby([df.reading_datetime.dt.time]).boxplot(column='energy', figsize=(12, 6), sharey=True)\n",
    "plt.show()\n",
    "# plt.show()\n",
    "# plt.legend()\n",
    "# new.plot(label='summer')\n",
    "# df = net['2019-03':'2019-05'].reset_index()\n",
    "# new = df.groupby([df.reading_datetime.dt.time])['energy'].mean()\n",
    "# new.plot(label='autumn')\n",
    "# df = net['2019-06':'2019-08'].reset_index()\n",
    "# new = df.groupby([df.reading_datetime.dt.time])['energy'].mean()\n",
    "# new.plot(label='winter')\n",
    "# df = net['2019-09':'2019-11'].reset_index()\n",
    "# new = df.groupby([df.reading_datetime.dt.time])['energy'].mean()\n",
    "# new.plot(label='spring')\n"
   ],
   "metadata": {
    "collapsed": false,
    "pycharm": {
     "name": "#%%\n",
     "is_executing": true
    }
   }
  }
 ],
 "metadata": {
  "kernelspec": {
   "name": "quickpandas",
   "language": "python",
   "display_name": "QuickPandas"
  },
  "language_info": {
   "codemirror_mode": {
    "name": "ipython",
    "version": 2
   },
   "file_extension": ".py",
   "mimetype": "text/x-python",
   "name": "python",
   "nbconvert_exporter": "python",
   "pygments_lexer": "ipython2",
   "version": "2.7.6"
  }
 },
 "nbformat": 4,
 "nbformat_minor": 0
}