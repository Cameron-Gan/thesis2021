{
 "cells": [
  {
   "cell_type": "code",
   "execution_count": 1,
   "metadata": {
    "collapsed": true
   },
   "outputs": [
    {
     "name": "stdout",
     "output_type": "stream",
     "text": [
      "setup complete\n",
      "288\n"
     ]
    },
    {
     "data": {
      "text/plain": "                         0        1        2        3        4    5    6    \\\nreading_datetime                                                             \n2019-01-01 00:00:00  28.7347   0.0000   0.0000   0.0000   0.0000  0.0  0.0   \n2019-01-01 00:05:00  96.0817  28.7347   0.0000   0.0000   0.0000  0.0  0.0   \n2019-01-01 00:10:00  93.9811  96.0817  28.7347   0.0000   0.0000  0.0  0.0   \n2019-01-01 00:15:00  88.6158  93.9811  96.0817  28.7347   0.0000  0.0  0.0   \n2019-01-01 00:20:00  87.3767  88.6158  93.9811  96.0817  28.7347  0.0  0.0   \n...                      ...      ...      ...      ...      ...  ...  ...   \n2019-01-01 23:35:00   0.0000   0.0000   0.0000   0.0000   0.0000  0.0  0.0   \n2019-01-01 23:40:00   0.0000   0.0000   0.0000   0.0000   0.0000  0.0  0.0   \n2019-01-01 23:45:00   0.0000   0.0000   0.0000   0.0000   0.0000  0.0  0.0   \n2019-01-01 23:50:00   0.0000   0.0000   0.0000   0.0000   0.0000  0.0  0.0   \n2019-01-01 23:55:00   0.0000   0.0000   0.0000   0.0000   0.0000  0.0  0.0   \n\n                     7    8    9    ...  263  264  265  266  267  268  \\\nreading_datetime                    ...                                 \n2019-01-01 00:00:00  0.0  0.0  0.0  ...  0.0  0.0  0.0  0.0  0.0  0.0   \n2019-01-01 00:05:00  0.0  0.0  0.0  ...  0.0  0.0  0.0  0.0  0.0  0.0   \n2019-01-01 00:10:00  0.0  0.0  0.0  ...  0.0  0.0  0.0  0.0  0.0  0.0   \n2019-01-01 00:15:00  0.0  0.0  0.0  ...  0.0  0.0  0.0  0.0  0.0  0.0   \n2019-01-01 00:20:00  0.0  0.0  0.0  ...  0.0  0.0  0.0  0.0  0.0  0.0   \n...                  ...  ...  ...  ...  ...  ...  ...  ...  ...  ...   \n2019-01-01 23:35:00  0.0  0.0  0.0  ...  0.0  0.0  0.0  0.0  0.0  0.0   \n2019-01-01 23:40:00  0.0  0.0  0.0  ...  0.0  0.0  0.0  0.0  0.0  0.0   \n2019-01-01 23:45:00  0.0  0.0  0.0  ...  0.0  0.0  0.0  0.0  0.0  0.0   \n2019-01-01 23:50:00  0.0  0.0  0.0  ...  0.0  0.0  0.0  0.0  0.0  0.0   \n2019-01-01 23:55:00  0.0  0.0  0.0  ...  0.0  0.0  0.0  0.0  0.0  0.0   \n\n                         269      270      271      272  \nreading_datetime                                         \n2019-01-01 00:00:00   0.0000   0.0000   0.0000   0.0000  \n2019-01-01 00:05:00   0.0000   0.0000   0.0000   0.0000  \n2019-01-01 00:10:00   0.0000   0.0000   0.0000   0.0000  \n2019-01-01 00:15:00   0.0000   0.0000   0.0000   0.0000  \n2019-01-01 00:20:00   0.0000   0.0000   0.0000   0.0000  \n...                      ...      ...      ...      ...  \n2019-01-01 23:35:00  97.0475  96.0203  94.8925  93.9544  \n2019-01-01 23:40:00   0.0000  97.0475  96.0203  94.8925  \n2019-01-01 23:45:00   0.0000   0.0000  97.0475  96.0203  \n2019-01-01 23:50:00   0.0000   0.0000   0.0000  97.0475  \n2019-01-01 23:55:00   0.0000   0.0000   0.0000   0.0000  \n\n[288 rows x 273 columns]",
      "text/html": "<div>\n<style scoped>\n    .dataframe tbody tr th:only-of-type {\n        vertical-align: middle;\n    }\n\n    .dataframe tbody tr th {\n        vertical-align: top;\n    }\n\n    .dataframe thead th {\n        text-align: right;\n    }\n</style>\n<table border=\"1\" class=\"dataframe\">\n  <thead>\n    <tr style=\"text-align: right;\">\n      <th></th>\n      <th>0</th>\n      <th>1</th>\n      <th>2</th>\n      <th>3</th>\n      <th>4</th>\n      <th>5</th>\n      <th>6</th>\n      <th>7</th>\n      <th>8</th>\n      <th>9</th>\n      <th>...</th>\n      <th>263</th>\n      <th>264</th>\n      <th>265</th>\n      <th>266</th>\n      <th>267</th>\n      <th>268</th>\n      <th>269</th>\n      <th>270</th>\n      <th>271</th>\n      <th>272</th>\n    </tr>\n    <tr>\n      <th>reading_datetime</th>\n      <th></th>\n      <th></th>\n      <th></th>\n      <th></th>\n      <th></th>\n      <th></th>\n      <th></th>\n      <th></th>\n      <th></th>\n      <th></th>\n      <th></th>\n      <th></th>\n      <th></th>\n      <th></th>\n      <th></th>\n      <th></th>\n      <th></th>\n      <th></th>\n      <th></th>\n      <th></th>\n      <th></th>\n    </tr>\n  </thead>\n  <tbody>\n    <tr>\n      <th>2019-01-01 00:00:00</th>\n      <td>28.7347</td>\n      <td>0.0000</td>\n      <td>0.0000</td>\n      <td>0.0000</td>\n      <td>0.0000</td>\n      <td>0.0</td>\n      <td>0.0</td>\n      <td>0.0</td>\n      <td>0.0</td>\n      <td>0.0</td>\n      <td>...</td>\n      <td>0.0</td>\n      <td>0.0</td>\n      <td>0.0</td>\n      <td>0.0</td>\n      <td>0.0</td>\n      <td>0.0</td>\n      <td>0.0000</td>\n      <td>0.0000</td>\n      <td>0.0000</td>\n      <td>0.0000</td>\n    </tr>\n    <tr>\n      <th>2019-01-01 00:05:00</th>\n      <td>96.0817</td>\n      <td>28.7347</td>\n      <td>0.0000</td>\n      <td>0.0000</td>\n      <td>0.0000</td>\n      <td>0.0</td>\n      <td>0.0</td>\n      <td>0.0</td>\n      <td>0.0</td>\n      <td>0.0</td>\n      <td>...</td>\n      <td>0.0</td>\n      <td>0.0</td>\n      <td>0.0</td>\n      <td>0.0</td>\n      <td>0.0</td>\n      <td>0.0</td>\n      <td>0.0000</td>\n      <td>0.0000</td>\n      <td>0.0000</td>\n      <td>0.0000</td>\n    </tr>\n    <tr>\n      <th>2019-01-01 00:10:00</th>\n      <td>93.9811</td>\n      <td>96.0817</td>\n      <td>28.7347</td>\n      <td>0.0000</td>\n      <td>0.0000</td>\n      <td>0.0</td>\n      <td>0.0</td>\n      <td>0.0</td>\n      <td>0.0</td>\n      <td>0.0</td>\n      <td>...</td>\n      <td>0.0</td>\n      <td>0.0</td>\n      <td>0.0</td>\n      <td>0.0</td>\n      <td>0.0</td>\n      <td>0.0</td>\n      <td>0.0000</td>\n      <td>0.0000</td>\n      <td>0.0000</td>\n      <td>0.0000</td>\n    </tr>\n    <tr>\n      <th>2019-01-01 00:15:00</th>\n      <td>88.6158</td>\n      <td>93.9811</td>\n      <td>96.0817</td>\n      <td>28.7347</td>\n      <td>0.0000</td>\n      <td>0.0</td>\n      <td>0.0</td>\n      <td>0.0</td>\n      <td>0.0</td>\n      <td>0.0</td>\n      <td>...</td>\n      <td>0.0</td>\n      <td>0.0</td>\n      <td>0.0</td>\n      <td>0.0</td>\n      <td>0.0</td>\n      <td>0.0</td>\n      <td>0.0000</td>\n      <td>0.0000</td>\n      <td>0.0000</td>\n      <td>0.0000</td>\n    </tr>\n    <tr>\n      <th>2019-01-01 00:20:00</th>\n      <td>87.3767</td>\n      <td>88.6158</td>\n      <td>93.9811</td>\n      <td>96.0817</td>\n      <td>28.7347</td>\n      <td>0.0</td>\n      <td>0.0</td>\n      <td>0.0</td>\n      <td>0.0</td>\n      <td>0.0</td>\n      <td>...</td>\n      <td>0.0</td>\n      <td>0.0</td>\n      <td>0.0</td>\n      <td>0.0</td>\n      <td>0.0</td>\n      <td>0.0</td>\n      <td>0.0000</td>\n      <td>0.0000</td>\n      <td>0.0000</td>\n      <td>0.0000</td>\n    </tr>\n    <tr>\n      <th>...</th>\n      <td>...</td>\n      <td>...</td>\n      <td>...</td>\n      <td>...</td>\n      <td>...</td>\n      <td>...</td>\n      <td>...</td>\n      <td>...</td>\n      <td>...</td>\n      <td>...</td>\n      <td>...</td>\n      <td>...</td>\n      <td>...</td>\n      <td>...</td>\n      <td>...</td>\n      <td>...</td>\n      <td>...</td>\n      <td>...</td>\n      <td>...</td>\n      <td>...</td>\n      <td>...</td>\n    </tr>\n    <tr>\n      <th>2019-01-01 23:35:00</th>\n      <td>0.0000</td>\n      <td>0.0000</td>\n      <td>0.0000</td>\n      <td>0.0000</td>\n      <td>0.0000</td>\n      <td>0.0</td>\n      <td>0.0</td>\n      <td>0.0</td>\n      <td>0.0</td>\n      <td>0.0</td>\n      <td>...</td>\n      <td>0.0</td>\n      <td>0.0</td>\n      <td>0.0</td>\n      <td>0.0</td>\n      <td>0.0</td>\n      <td>0.0</td>\n      <td>97.0475</td>\n      <td>96.0203</td>\n      <td>94.8925</td>\n      <td>93.9544</td>\n    </tr>\n    <tr>\n      <th>2019-01-01 23:40:00</th>\n      <td>0.0000</td>\n      <td>0.0000</td>\n      <td>0.0000</td>\n      <td>0.0000</td>\n      <td>0.0000</td>\n      <td>0.0</td>\n      <td>0.0</td>\n      <td>0.0</td>\n      <td>0.0</td>\n      <td>0.0</td>\n      <td>...</td>\n      <td>0.0</td>\n      <td>0.0</td>\n      <td>0.0</td>\n      <td>0.0</td>\n      <td>0.0</td>\n      <td>0.0</td>\n      <td>0.0000</td>\n      <td>97.0475</td>\n      <td>96.0203</td>\n      <td>94.8925</td>\n    </tr>\n    <tr>\n      <th>2019-01-01 23:45:00</th>\n      <td>0.0000</td>\n      <td>0.0000</td>\n      <td>0.0000</td>\n      <td>0.0000</td>\n      <td>0.0000</td>\n      <td>0.0</td>\n      <td>0.0</td>\n      <td>0.0</td>\n      <td>0.0</td>\n      <td>0.0</td>\n      <td>...</td>\n      <td>0.0</td>\n      <td>0.0</td>\n      <td>0.0</td>\n      <td>0.0</td>\n      <td>0.0</td>\n      <td>0.0</td>\n      <td>0.0000</td>\n      <td>0.0000</td>\n      <td>97.0475</td>\n      <td>96.0203</td>\n    </tr>\n    <tr>\n      <th>2019-01-01 23:50:00</th>\n      <td>0.0000</td>\n      <td>0.0000</td>\n      <td>0.0000</td>\n      <td>0.0000</td>\n      <td>0.0000</td>\n      <td>0.0</td>\n      <td>0.0</td>\n      <td>0.0</td>\n      <td>0.0</td>\n      <td>0.0</td>\n      <td>...</td>\n      <td>0.0</td>\n      <td>0.0</td>\n      <td>0.0</td>\n      <td>0.0</td>\n      <td>0.0</td>\n      <td>0.0</td>\n      <td>0.0000</td>\n      <td>0.0000</td>\n      <td>0.0000</td>\n      <td>97.0475</td>\n    </tr>\n    <tr>\n      <th>2019-01-01 23:55:00</th>\n      <td>0.0000</td>\n      <td>0.0000</td>\n      <td>0.0000</td>\n      <td>0.0000</td>\n      <td>0.0000</td>\n      <td>0.0</td>\n      <td>0.0</td>\n      <td>0.0</td>\n      <td>0.0</td>\n      <td>0.0</td>\n      <td>...</td>\n      <td>0.0</td>\n      <td>0.0</td>\n      <td>0.0</td>\n      <td>0.0</td>\n      <td>0.0</td>\n      <td>0.0</td>\n      <td>0.0000</td>\n      <td>0.0000</td>\n      <td>0.0000</td>\n      <td>0.0000</td>\n    </tr>\n  </tbody>\n</table>\n<p>288 rows × 273 columns</p>\n</div>"
     },
     "execution_count": 1,
     "metadata": {},
     "output_type": "execute_result"
    }
   ],
   "source": [
    "from datetime import time\n",
    "import thesisInitial.tariff as tf\n",
    "import json\n",
    "import numpy as np\n",
    "import matplotlib.pyplot as plt\n",
    "import pandas as pd\n",
    "\n",
    "\n",
    "\n",
    "from thesisInitial.cleaning_data import extract_data_from_house, extract_load\n",
    "data = extract_data_from_house(64613, 'hot_water')\n",
    "print('setup complete')\n",
    "\n",
    "\n",
    "from thesisInitial.possible_load import ExtractLoad\n",
    "pl = ExtractLoad(data.load)\n",
    "l = pl.get_possible_load_date('2019-01-01')\n",
    "l"
   ]
  },
  {
   "cell_type": "code",
   "execution_count": 2,
   "outputs": [
    {
     "name": "stdout",
     "output_type": "stream",
     "text": [
      "TOU\n",
      "flat\n",
      "TOU_controlled_load\n",
      "flat_controlled_load\n"
     ]
    }
   ],
   "source": [
    "tariffs = tf.read_tariffs()\n",
    "for tariff in tariffs:\n",
    "    print(tariff.tariff_type)"
   ],
   "metadata": {
    "collapsed": false,
    "pycharm": {
     "name": "#%%\n"
    }
   }
  },
  {
   "cell_type": "code",
   "execution_count": null,
   "outputs": [],
   "source": [
    "# tf.setup_tariff_json()\n",
    "tariff_name =       'Power Direct'\n",
    "peak_price =        39.63\n",
    "shoulder_price =    27.35\n",
    "off_peak_price =    21.74\n",
    "\n",
    "fit =               12.4\n",
    "supply_charge =     78.69\n",
    "\n",
    "peak        = {(6,10): peak_price, (15,24): peak_price, (0,1): peak_price}\n",
    "shoulder    = {(10,15): shoulder_price}\n",
    "off_peak    = {(1,6): off_peak_price}\n",
    "\n",
    "tou_rate = {**peak, **shoulder, **off_peak}\n",
    "\n",
    "tariff = tf.TOUTariff(tariff_name=tariff_name, supply_charge=supply_charge, fit=fit, tou_rate=tou_rate)\n",
    "tariff.write_tariff()\n"
   ],
   "metadata": {
    "collapsed": false,
    "pycharm": {
     "name": "#%%\n"
    }
   }
  },
  {
   "cell_type": "code",
   "execution_count": 6,
   "outputs": [
    {
     "name": "stdout",
     "output_type": "stream",
     "text": [
      "writing\n"
     ]
    }
   ],
   "source": [
    "tariff_name =   'OVO One Plan'\n",
    "flat_rate =     28.6\n",
    "fit =           8\n",
    "supply_charge = 85.25\n",
    "tariff = tf.Flat(tariff_name=tariff_name, supply_charge=supply_charge, fit=fit, flat_rate=flat_rate)\n",
    "tariff.write_tariff()"
   ],
   "metadata": {
    "collapsed": false,
    "pycharm": {
     "name": "#%%\n"
    }
   }
  },
  {
   "cell_type": "code",
   "execution_count": 8,
   "outputs": [
    {
     "name": "stdout",
     "output_type": "stream",
     "text": [
      "tariffNameAlinta Energy CL\n",
      "writing\n"
     ]
    }
   ],
   "source": [
    "tariff_name =       'GloSave CL'\n",
    "peak_price =        42.90\n",
    "off_peak_price =    24.92\n",
    "shoulder_price =    20.49\n",
    "fit =               9.5\n",
    "supply_charge =     72.60\n",
    "controlled_load =   18.28\n",
    "\n",
    "peak        = {(6,10): peak_price, (15,24): peak_price, (0,1): peak_price}\n",
    "shoulder    = {(10,15): shoulder_price}\n",
    "off_peak    = {(1,6): off_peak_price}\n",
    "\n",
    "tou_rate = {**peak, **shoulder, **off_peak}\n",
    "\n",
    "tariff = tf.TOUControlledLoad(tariff_name=tariff_name,\n",
    "                              supply_charge=supply_charge,\n",
    "                              fit=fit,\n",
    "                              tou_rate=tou_rate,\n",
    "                              controlled_load=controlled_load)\n",
    "tariff.write_tariff()"
   ],
   "metadata": {
    "collapsed": false,
    "pycharm": {
     "name": "#%%\n"
    }
   }
  },
  {
   "cell_type": "code",
   "execution_count": 3,
   "outputs": [
    {
     "name": "stdout",
     "output_type": "stream",
     "text": [
      "flat_controllable_load\n",
      "writing\n"
     ]
    }
   ],
   "source": [
    "tariff_name =   'Red Energy MSO CL'\n",
    "flat_rate =     34.96\n",
    "fit =           11.5\n",
    "supply_charge = 117.70\n",
    "controlled_load=19.20\n",
    "tariff = tf.FlatControllableLoad(tariff_name=tariff_name,\n",
    "                                supply_charge=supply_charge,\n",
    "                                fit=fit,\n",
    "                                flat_rate=flat_rate,\n",
    "                                controllable_load_tariff=controlled_load)\n",
    "tariff.write_tariff()\n"
   ],
   "metadata": {
    "collapsed": false,
    "pycharm": {
     "name": "#%%\n"
    }
   }
  }
 ],
 "metadata": {
  "kernelspec": {
   "name": "pycharm-16601492",
   "language": "python",
   "display_name": "PyCharm (Thesis1)"
  },
  "language_info": {
   "codemirror_mode": {
    "name": "ipython",
    "version": 2
   },
   "file_extension": ".py",
   "mimetype": "text/x-python",
   "name": "python",
   "nbconvert_exporter": "python",
   "pygments_lexer": "ipython2",
   "version": "2.7.6"
  }
 },
 "nbformat": 4,
 "nbformat_minor": 0
}