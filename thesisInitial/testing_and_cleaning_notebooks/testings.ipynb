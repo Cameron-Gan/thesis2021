{
 "cells": [
  {
   "cell_type": "code",
   "execution_count": 3,
   "metadata": {
    "collapsed": true
   },
   "outputs": [
    {
     "name": "stdout",
     "output_type": "stream",
     "text": [
      "Tariff Name: OriginGo\n"
     ]
    },
    {
     "data": {
      "text/plain": "<Figure size 432x288 with 1 Axes>",
      "image/png": "[encoded data removed]"
     },
     "metadata": {
      "needs_background": "light"
     },
     "output_type": "display_data"
    }
   ],
   "source": [
    "from datetime import time\n",
    "import thesisInitial.tariff as tf\n",
    "import json\n",
    "import numpy as np\n",
    "import matplotlib.pyplot as plt\n",
    "import pandas as pd\n",
    "from thesisInitial.cleaning_data import extract_data_from_house\n",
    "\n",
    "data = extract_data_from_house(64613, 'hot_water')\n",
    "\n",
    "tariff_type = 'TOU'\n",
    "tariffs = tf.read_tariffs()\n",
    "\n",
    "tariff = None\n",
    "for t in tariffs:\n",
    "    if t.tariff_type == tariff_type:\n",
    "        tariff = t\n",
    "\n",
    "print(\"Tariff Name: \" + tariff.tariff_name)\n",
    "fig, ax = plt.subplots(1,1)\n",
    "tariff.plot_tariff(data['2019-01-01'].index, ax)\n",
    "# data['2019-01-01'].grid_import.plot(ax=ax)\n",
    "plt.show()\n",
    "# plt.show()"
   ]
  },
  {
   "cell_type": "code",
   "execution_count": 6,
   "outputs": [
    {
     "name": "stdout",
     "output_type": "stream",
     "text": [
      "TOU\n",
      "flat\n",
      "TOU_controlled_load\n",
      "flat_controlled_load\n"
     ]
    }
   ],
   "source": [
    "tariffs = tf.read_tariffs()\n",
    "for tariff in tariffs:\n",
    "    print(tariff.tariff_type)"
   ],
   "metadata": {
    "collapsed": false,
    "pycharm": {
     "name": "#%%\n"
    }
   }
  },
  {
   "cell_type": "code",
   "execution_count": null,
   "outputs": [],
   "source": [
    "# tf.setup_tariff_json()\n",
    "tariff_name =       'Power Direct'\n",
    "peak_price =        39.63\n",
    "shoulder_price =    27.35\n",
    "off_peak_price =    21.74\n",
    "\n",
    "fit =               12.4\n",
    "supply_charge =     78.69\n",
    "\n",
    "peak        = {(6,10): peak_price, (15,24): peak_price, (0,1): peak_price}\n",
    "shoulder    = {(10,15): shoulder_price}\n",
    "off_peak    = {(1,6): off_peak_price}\n",
    "\n",
    "tou_rate = {**peak, **shoulder, **off_peak}\n",
    "\n",
    "tariff = tf.TOUTariff(tariff_name=tariff_name, supply_charge=supply_charge, fit=fit, tou_rate=tou_rate)\n",
    "tariff.write_tariff()\n"
   ],
   "metadata": {
    "collapsed": false,
    "pycharm": {
     "name": "#%%\n"
    }
   }
  },
  {
   "cell_type": "code",
   "execution_count": 6,
   "outputs": [
    {
     "name": "stdout",
     "output_type": "stream",
     "text": [
      "writing\n"
     ]
    }
   ],
   "source": [
    "tariff_name =   'OVO One Plan'\n",
    "flat_rate =     28.6\n",
    "fit =           8\n",
    "supply_charge = 85.25\n",
    "tariff = tf.Flat(tariff_name=tariff_name, supply_charge=supply_charge, fit=fit, flat_rate=flat_rate)\n",
    "tariff.write_tariff()"
   ],
   "metadata": {
    "collapsed": false,
    "pycharm": {
     "name": "#%%\n"
    }
   }
  },
  {
   "cell_type": "code",
   "execution_count": 8,
   "outputs": [
    {
     "name": "stdout",
     "output_type": "stream",
     "text": [
      "tariffNameAlinta Energy CL\n",
      "writing\n"
     ]
    }
   ],
   "source": [
    "tariff_name =       'GloSave CL'\n",
    "peak_price =        42.90\n",
    "off_peak_price =    24.92\n",
    "shoulder_price =    20.49\n",
    "fit =               9.5\n",
    "supply_charge =     72.60\n",
    "controlled_load =   18.28\n",
    "\n",
    "peak        = {(6,10): peak_price, (15,24): peak_price, (0,1): peak_price}\n",
    "shoulder    = {(10,15): shoulder_price}\n",
    "off_peak    = {(1,6): off_peak_price}\n",
    "\n",
    "tou_rate = {**peak, **shoulder, **off_peak}\n",
    "\n",
    "tariff = tf.TOUControlledLoad(tariff_name=tariff_name,\n",
    "                              supply_charge=supply_charge,\n",
    "                              fit=fit,\n",
    "                              tou_rate=tou_rate,\n",
    "                              controlled_load=controlled_load)\n",
    "tariff.write_tariff()"
   ],
   "metadata": {
    "collapsed": false,
    "pycharm": {
     "name": "#%%\n"
    }
   }
  },
  {
   "cell_type": "code",
   "execution_count": 3,
   "outputs": [
    {
     "name": "stdout",
     "output_type": "stream",
     "text": [
      "flat_controllable_load\n",
      "writing\n"
     ]
    }
   ],
   "source": [
    "tariff_name =   'Red Energy MSO CL'\n",
    "flat_rate =     34.96\n",
    "fit =           11.5\n",
    "supply_charge = 117.70\n",
    "controlled_load=19.20\n",
    "tariff = tf.FlatControllableLoad(tariff_name=tariff_name,\n",
    "                                supply_charge=supply_charge,\n",
    "                                fit=fit,\n",
    "                                flat_rate=flat_rate,\n",
    "                                controllable_load_tariff=controlled_load)\n",
    "tariff.write_tariff()\n"
   ],
   "metadata": {
    "collapsed": false,
    "pycharm": {
     "name": "#%%\n"
    }
   }
  }
 ],
 "metadata": {
  "kernelspec": {
   "name": "pycharm-16601492",
   "language": "python",
   "display_name": "PyCharm (Thesis1)"
  },
  "language_info": {
   "codemirror_mode": {
    "name": "ipython",
    "version": 2
   },
   "file_extension": ".py",
   "mimetype": "text/x-python",
   "name": "python",
   "nbconvert_exporter": "python",
   "pygments_lexer": "ipython2",
   "version": "2.7.6"
  }
 },
 "nbformat": 4,
 "nbformat_minor": 0
}